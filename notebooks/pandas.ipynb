{
 "cells": [
  {
   "cell_type": "code",
   "execution_count": 2,
   "id": "1dc57616",
   "metadata": {},
   "outputs": [],
   "source": [
    "import pandas as pd\n",
    "import numpy as np"
   ]
  },
  {
   "cell_type": "code",
   "execution_count": 3,
   "id": "a1036330",
   "metadata": {},
   "outputs": [
    {
     "name": "stderr",
     "output_type": "stream",
     "text": [
      "<>:1: SyntaxWarning: invalid escape sequence '\\D'\n",
      "<>:1: SyntaxWarning: invalid escape sequence '\\D'\n",
      "C:\\Users\\RUSHANK\\AppData\\Local\\Temp\\ipykernel_34524\\3541439140.py:1: SyntaxWarning: invalid escape sequence '\\D'\n",
      "  retail = pd.read_csv(\"D:\\Data_Science\\Project\\data\\\\raw\\Retail_data.csv\")\n"
     ]
    },
    {
     "data": {
      "application/vnd.microsoft.datawrangler.viewer.v0+json": {
       "columns": [
        {
         "name": "index",
         "rawType": "int64",
         "type": "integer"
        },
        {
         "name": "Transaction ID",
         "rawType": "int64",
         "type": "integer"
        },
        {
         "name": "Date",
         "rawType": "object",
         "type": "string"
        },
        {
         "name": "Customer ID",
         "rawType": "object",
         "type": "string"
        },
        {
         "name": "Gender",
         "rawType": "object",
         "type": "string"
        },
        {
         "name": "Age",
         "rawType": "int64",
         "type": "integer"
        },
        {
         "name": "Product Category",
         "rawType": "object",
         "type": "string"
        },
        {
         "name": "Quantity",
         "rawType": "int64",
         "type": "integer"
        },
        {
         "name": "Price per Unit",
         "rawType": "int64",
         "type": "integer"
        },
        {
         "name": "Total Amount",
         "rawType": "int64",
         "type": "integer"
        }
       ],
       "ref": "5b91b07e-4e38-47d4-8df6-30a3529ee218",
       "rows": [
        [
         "0",
         "1",
         "2023-11-24",
         "CUST001",
         "Male",
         "34",
         "Beauty",
         "3",
         "50",
         "150"
        ],
        [
         "1",
         "2",
         "2023-02-27",
         "CUST002",
         "Female",
         "26",
         "Clothing",
         "2",
         "500",
         "1000"
        ],
        [
         "2",
         "3",
         "2023-01-13",
         "CUST003",
         "Male",
         "50",
         "Electronics",
         "1",
         "30",
         "30"
        ],
        [
         "3",
         "4",
         "2023-05-21",
         "CUST004",
         "Male",
         "37",
         "Clothing",
         "1",
         "500",
         "500"
        ],
        [
         "4",
         "5",
         "2023-05-06",
         "CUST005",
         "Male",
         "30",
         "Beauty",
         "2",
         "50",
         "100"
        ]
       ],
       "shape": {
        "columns": 9,
        "rows": 5
       }
      },
      "text/html": [
       "<div>\n",
       "<style scoped>\n",
       "    .dataframe tbody tr th:only-of-type {\n",
       "        vertical-align: middle;\n",
       "    }\n",
       "\n",
       "    .dataframe tbody tr th {\n",
       "        vertical-align: top;\n",
       "    }\n",
       "\n",
       "    .dataframe thead th {\n",
       "        text-align: right;\n",
       "    }\n",
       "</style>\n",
       "<table border=\"1\" class=\"dataframe\">\n",
       "  <thead>\n",
       "    <tr style=\"text-align: right;\">\n",
       "      <th></th>\n",
       "      <th>Transaction ID</th>\n",
       "      <th>Date</th>\n",
       "      <th>Customer ID</th>\n",
       "      <th>Gender</th>\n",
       "      <th>Age</th>\n",
       "      <th>Product Category</th>\n",
       "      <th>Quantity</th>\n",
       "      <th>Price per Unit</th>\n",
       "      <th>Total Amount</th>\n",
       "    </tr>\n",
       "  </thead>\n",
       "  <tbody>\n",
       "    <tr>\n",
       "      <th>0</th>\n",
       "      <td>1</td>\n",
       "      <td>2023-11-24</td>\n",
       "      <td>CUST001</td>\n",
       "      <td>Male</td>\n",
       "      <td>34</td>\n",
       "      <td>Beauty</td>\n",
       "      <td>3</td>\n",
       "      <td>50</td>\n",
       "      <td>150</td>\n",
       "    </tr>\n",
       "    <tr>\n",
       "      <th>1</th>\n",
       "      <td>2</td>\n",
       "      <td>2023-02-27</td>\n",
       "      <td>CUST002</td>\n",
       "      <td>Female</td>\n",
       "      <td>26</td>\n",
       "      <td>Clothing</td>\n",
       "      <td>2</td>\n",
       "      <td>500</td>\n",
       "      <td>1000</td>\n",
       "    </tr>\n",
       "    <tr>\n",
       "      <th>2</th>\n",
       "      <td>3</td>\n",
       "      <td>2023-01-13</td>\n",
       "      <td>CUST003</td>\n",
       "      <td>Male</td>\n",
       "      <td>50</td>\n",
       "      <td>Electronics</td>\n",
       "      <td>1</td>\n",
       "      <td>30</td>\n",
       "      <td>30</td>\n",
       "    </tr>\n",
       "    <tr>\n",
       "      <th>3</th>\n",
       "      <td>4</td>\n",
       "      <td>2023-05-21</td>\n",
       "      <td>CUST004</td>\n",
       "      <td>Male</td>\n",
       "      <td>37</td>\n",
       "      <td>Clothing</td>\n",
       "      <td>1</td>\n",
       "      <td>500</td>\n",
       "      <td>500</td>\n",
       "    </tr>\n",
       "    <tr>\n",
       "      <th>4</th>\n",
       "      <td>5</td>\n",
       "      <td>2023-05-06</td>\n",
       "      <td>CUST005</td>\n",
       "      <td>Male</td>\n",
       "      <td>30</td>\n",
       "      <td>Beauty</td>\n",
       "      <td>2</td>\n",
       "      <td>50</td>\n",
       "      <td>100</td>\n",
       "    </tr>\n",
       "  </tbody>\n",
       "</table>\n",
       "</div>"
      ],
      "text/plain": [
       "   Transaction ID        Date Customer ID  Gender  Age Product Category  \\\n",
       "0               1  2023-11-24     CUST001    Male   34           Beauty   \n",
       "1               2  2023-02-27     CUST002  Female   26         Clothing   \n",
       "2               3  2023-01-13     CUST003    Male   50      Electronics   \n",
       "3               4  2023-05-21     CUST004    Male   37         Clothing   \n",
       "4               5  2023-05-06     CUST005    Male   30           Beauty   \n",
       "\n",
       "   Quantity  Price per Unit  Total Amount  \n",
       "0         3              50           150  \n",
       "1         2             500          1000  \n",
       "2         1              30            30  \n",
       "3         1             500           500  \n",
       "4         2              50           100  "
      ]
     },
     "execution_count": 3,
     "metadata": {},
     "output_type": "execute_result"
    }
   ],
   "source": [
    "retail = pd.read_csv(\"D:\\Data_Science\\Project\\data\\\\raw\\Retail_data.csv\")\n",
    "retail.head(n=5)"
   ]
  },
  {
   "cell_type": "code",
   "execution_count": 4,
   "id": "070bd175",
   "metadata": {},
   "outputs": [],
   "source": [
    "retail.set_index('Transaction ID', inplace = True)"
   ]
  },
  {
   "cell_type": "code",
   "execution_count": 5,
   "id": "75ebc5cb",
   "metadata": {},
   "outputs": [
    {
     "name": "stdout",
     "output_type": "stream",
     "text": [
      "<class 'pandas.core.frame.DataFrame'>\n",
      "Index: 1000 entries, 1 to 1000\n",
      "Data columns (total 8 columns):\n",
      " #   Column            Non-Null Count  Dtype \n",
      "---  ------            --------------  ----- \n",
      " 0   Date              1000 non-null   object\n",
      " 1   Customer ID       1000 non-null   object\n",
      " 2   Gender            1000 non-null   object\n",
      " 3   Age               1000 non-null   int64 \n",
      " 4   Product Category  1000 non-null   object\n",
      " 5   Quantity          1000 non-null   int64 \n",
      " 6   Price per Unit    1000 non-null   int64 \n",
      " 7   Total Amount      1000 non-null   int64 \n",
      "dtypes: int64(4), object(4)\n",
      "memory usage: 70.3+ KB\n"
     ]
    }
   ],
   "source": [
    "retail.info()"
   ]
  },
  {
   "cell_type": "code",
   "execution_count": 6,
   "id": "d88e2a54",
   "metadata": {},
   "outputs": [
    {
     "data": {
      "application/vnd.microsoft.datawrangler.viewer.v0+json": {
       "columns": [
        {
         "name": "index",
         "rawType": "object",
         "type": "string"
        },
        {
         "name": "Age",
         "rawType": "float64",
         "type": "float"
        },
        {
         "name": "Quantity",
         "rawType": "float64",
         "type": "float"
        },
        {
         "name": "Price per Unit",
         "rawType": "float64",
         "type": "float"
        },
        {
         "name": "Total Amount",
         "rawType": "float64",
         "type": "float"
        }
       ],
       "ref": "9de34f90-e928-44bd-8be2-2de82da53ef2",
       "rows": [
        [
         "count",
         "1000.0",
         "1000.0",
         "1000.0",
         "1000.0"
        ],
        [
         "mean",
         "41.392",
         "2.514",
         "179.89",
         "456.0"
        ],
        [
         "std",
         "13.681429659122527",
         "1.1327343409145356",
         "189.68135627129232",
         "559.997631555123"
        ],
        [
         "min",
         "18.0",
         "1.0",
         "25.0",
         "25.0"
        ],
        [
         "25%",
         "29.0",
         "1.0",
         "30.0",
         "60.0"
        ],
        [
         "50%",
         "42.0",
         "3.0",
         "50.0",
         "135.0"
        ],
        [
         "75%",
         "53.0",
         "4.0",
         "300.0",
         "900.0"
        ],
        [
         "max",
         "64.0",
         "4.0",
         "500.0",
         "2000.0"
        ]
       ],
       "shape": {
        "columns": 4,
        "rows": 8
       }
      },
      "text/html": [
       "<div>\n",
       "<style scoped>\n",
       "    .dataframe tbody tr th:only-of-type {\n",
       "        vertical-align: middle;\n",
       "    }\n",
       "\n",
       "    .dataframe tbody tr th {\n",
       "        vertical-align: top;\n",
       "    }\n",
       "\n",
       "    .dataframe thead th {\n",
       "        text-align: right;\n",
       "    }\n",
       "</style>\n",
       "<table border=\"1\" class=\"dataframe\">\n",
       "  <thead>\n",
       "    <tr style=\"text-align: right;\">\n",
       "      <th></th>\n",
       "      <th>Age</th>\n",
       "      <th>Quantity</th>\n",
       "      <th>Price per Unit</th>\n",
       "      <th>Total Amount</th>\n",
       "    </tr>\n",
       "  </thead>\n",
       "  <tbody>\n",
       "    <tr>\n",
       "      <th>count</th>\n",
       "      <td>1000.00000</td>\n",
       "      <td>1000.000000</td>\n",
       "      <td>1000.000000</td>\n",
       "      <td>1000.000000</td>\n",
       "    </tr>\n",
       "    <tr>\n",
       "      <th>mean</th>\n",
       "      <td>41.39200</td>\n",
       "      <td>2.514000</td>\n",
       "      <td>179.890000</td>\n",
       "      <td>456.000000</td>\n",
       "    </tr>\n",
       "    <tr>\n",
       "      <th>std</th>\n",
       "      <td>13.68143</td>\n",
       "      <td>1.132734</td>\n",
       "      <td>189.681356</td>\n",
       "      <td>559.997632</td>\n",
       "    </tr>\n",
       "    <tr>\n",
       "      <th>min</th>\n",
       "      <td>18.00000</td>\n",
       "      <td>1.000000</td>\n",
       "      <td>25.000000</td>\n",
       "      <td>25.000000</td>\n",
       "    </tr>\n",
       "    <tr>\n",
       "      <th>25%</th>\n",
       "      <td>29.00000</td>\n",
       "      <td>1.000000</td>\n",
       "      <td>30.000000</td>\n",
       "      <td>60.000000</td>\n",
       "    </tr>\n",
       "    <tr>\n",
       "      <th>50%</th>\n",
       "      <td>42.00000</td>\n",
       "      <td>3.000000</td>\n",
       "      <td>50.000000</td>\n",
       "      <td>135.000000</td>\n",
       "    </tr>\n",
       "    <tr>\n",
       "      <th>75%</th>\n",
       "      <td>53.00000</td>\n",
       "      <td>4.000000</td>\n",
       "      <td>300.000000</td>\n",
       "      <td>900.000000</td>\n",
       "    </tr>\n",
       "    <tr>\n",
       "      <th>max</th>\n",
       "      <td>64.00000</td>\n",
       "      <td>4.000000</td>\n",
       "      <td>500.000000</td>\n",
       "      <td>2000.000000</td>\n",
       "    </tr>\n",
       "  </tbody>\n",
       "</table>\n",
       "</div>"
      ],
      "text/plain": [
       "              Age     Quantity  Price per Unit  Total Amount\n",
       "count  1000.00000  1000.000000     1000.000000   1000.000000\n",
       "mean     41.39200     2.514000      179.890000    456.000000\n",
       "std      13.68143     1.132734      189.681356    559.997632\n",
       "min      18.00000     1.000000       25.000000     25.000000\n",
       "25%      29.00000     1.000000       30.000000     60.000000\n",
       "50%      42.00000     3.000000       50.000000    135.000000\n",
       "75%      53.00000     4.000000      300.000000    900.000000\n",
       "max      64.00000     4.000000      500.000000   2000.000000"
      ]
     },
     "execution_count": 6,
     "metadata": {},
     "output_type": "execute_result"
    }
   ],
   "source": [
    "retail.describe()"
   ]
  },
  {
   "cell_type": "markdown",
   "id": "366a0529",
   "metadata": {},
   "source": [
    "# loc -- Find the data of the given values\n",
    "\n",
    "*Use loc when you want to access data by name/label — not position*\n",
    "\n",
    "for instance: \n",
    "\n",
    "df.loc['a', 'Name']         # Alice\n",
    "df.loc[:, 'City']           # All rows in 'City' column\n",
    "df.loc[df['Age'] > 26]      # Rows where Age > 26\n",
    "\n",
    "# iloc -- Find the data of the given index \n",
    "\n",
    "*Use iloc when you want to access data by position (like array indices)*\n",
    "\n",
    "for instance:\n",
    "\n",
    "df.iloc[0, 1]       # Get the value at row 0, column 1 → 25\n",
    "df.iloc[:, 2]       # All rows in the third column ('City')\n",
    "df.iloc[1:3, :2]    # Rows 1 to 2 (excluding 3), fir"
   ]
  },
  {
   "cell_type": "code",
   "execution_count": 7,
   "id": "e47345d5",
   "metadata": {},
   "outputs": [
    {
     "data": {
      "application/vnd.microsoft.datawrangler.viewer.v0+json": {
       "columns": [
        {
         "name": "Transaction ID",
         "rawType": "int64",
         "type": "integer"
        },
        {
         "name": "Date",
         "rawType": "object",
         "type": "string"
        },
        {
         "name": "Customer ID",
         "rawType": "object",
         "type": "string"
        },
        {
         "name": "Gender",
         "rawType": "object",
         "type": "string"
        },
        {
         "name": "Age",
         "rawType": "int64",
         "type": "integer"
        },
        {
         "name": "Product Category",
         "rawType": "object",
         "type": "string"
        },
        {
         "name": "Quantity",
         "rawType": "int64",
         "type": "integer"
        },
        {
         "name": "Price per Unit",
         "rawType": "int64",
         "type": "integer"
        },
        {
         "name": "Total Amount",
         "rawType": "int64",
         "type": "integer"
        }
       ],
       "ref": "cebfe045-6b2a-42f1-8be9-9a55459f02bf",
       "rows": [
        [
         "1",
         "2023-11-24",
         "CUST001",
         "Male",
         "34",
         "Beauty",
         "3",
         "50",
         "150"
        ],
        [
         "2",
         "2023-02-27",
         "CUST002",
         "Female",
         "26",
         "Clothing",
         "2",
         "500",
         "1000"
        ],
        [
         "3",
         "2023-01-13",
         "CUST003",
         "Male",
         "50",
         "Electronics",
         "1",
         "30",
         "30"
        ],
        [
         "4",
         "2023-05-21",
         "CUST004",
         "Male",
         "37",
         "Clothing",
         "1",
         "500",
         "500"
        ],
        [
         "5",
         "2023-05-06",
         "CUST005",
         "Male",
         "30",
         "Beauty",
         "2",
         "50",
         "100"
        ]
       ],
       "shape": {
        "columns": 8,
        "rows": 5
       }
      },
      "text/html": [
       "<div>\n",
       "<style scoped>\n",
       "    .dataframe tbody tr th:only-of-type {\n",
       "        vertical-align: middle;\n",
       "    }\n",
       "\n",
       "    .dataframe tbody tr th {\n",
       "        vertical-align: top;\n",
       "    }\n",
       "\n",
       "    .dataframe thead th {\n",
       "        text-align: right;\n",
       "    }\n",
       "</style>\n",
       "<table border=\"1\" class=\"dataframe\">\n",
       "  <thead>\n",
       "    <tr style=\"text-align: right;\">\n",
       "      <th></th>\n",
       "      <th>Date</th>\n",
       "      <th>Customer ID</th>\n",
       "      <th>Gender</th>\n",
       "      <th>Age</th>\n",
       "      <th>Product Category</th>\n",
       "      <th>Quantity</th>\n",
       "      <th>Price per Unit</th>\n",
       "      <th>Total Amount</th>\n",
       "    </tr>\n",
       "    <tr>\n",
       "      <th>Transaction ID</th>\n",
       "      <th></th>\n",
       "      <th></th>\n",
       "      <th></th>\n",
       "      <th></th>\n",
       "      <th></th>\n",
       "      <th></th>\n",
       "      <th></th>\n",
       "      <th></th>\n",
       "    </tr>\n",
       "  </thead>\n",
       "  <tbody>\n",
       "    <tr>\n",
       "      <th>1</th>\n",
       "      <td>2023-11-24</td>\n",
       "      <td>CUST001</td>\n",
       "      <td>Male</td>\n",
       "      <td>34</td>\n",
       "      <td>Beauty</td>\n",
       "      <td>3</td>\n",
       "      <td>50</td>\n",
       "      <td>150</td>\n",
       "    </tr>\n",
       "    <tr>\n",
       "      <th>2</th>\n",
       "      <td>2023-02-27</td>\n",
       "      <td>CUST002</td>\n",
       "      <td>Female</td>\n",
       "      <td>26</td>\n",
       "      <td>Clothing</td>\n",
       "      <td>2</td>\n",
       "      <td>500</td>\n",
       "      <td>1000</td>\n",
       "    </tr>\n",
       "    <tr>\n",
       "      <th>3</th>\n",
       "      <td>2023-01-13</td>\n",
       "      <td>CUST003</td>\n",
       "      <td>Male</td>\n",
       "      <td>50</td>\n",
       "      <td>Electronics</td>\n",
       "      <td>1</td>\n",
       "      <td>30</td>\n",
       "      <td>30</td>\n",
       "    </tr>\n",
       "    <tr>\n",
       "      <th>4</th>\n",
       "      <td>2023-05-21</td>\n",
       "      <td>CUST004</td>\n",
       "      <td>Male</td>\n",
       "      <td>37</td>\n",
       "      <td>Clothing</td>\n",
       "      <td>1</td>\n",
       "      <td>500</td>\n",
       "      <td>500</td>\n",
       "    </tr>\n",
       "    <tr>\n",
       "      <th>5</th>\n",
       "      <td>2023-05-06</td>\n",
       "      <td>CUST005</td>\n",
       "      <td>Male</td>\n",
       "      <td>30</td>\n",
       "      <td>Beauty</td>\n",
       "      <td>2</td>\n",
       "      <td>50</td>\n",
       "      <td>100</td>\n",
       "    </tr>\n",
       "  </tbody>\n",
       "</table>\n",
       "</div>"
      ],
      "text/plain": [
       "                      Date Customer ID  Gender  Age Product Category  \\\n",
       "Transaction ID                                                         \n",
       "1               2023-11-24     CUST001    Male   34           Beauty   \n",
       "2               2023-02-27     CUST002  Female   26         Clothing   \n",
       "3               2023-01-13     CUST003    Male   50      Electronics   \n",
       "4               2023-05-21     CUST004    Male   37         Clothing   \n",
       "5               2023-05-06     CUST005    Male   30           Beauty   \n",
       "\n",
       "                Quantity  Price per Unit  Total Amount  \n",
       "Transaction ID                                          \n",
       "1                      3              50           150  \n",
       "2                      2             500          1000  \n",
       "3                      1              30            30  \n",
       "4                      1             500           500  \n",
       "5                      2              50           100  "
      ]
     },
     "execution_count": 7,
     "metadata": {},
     "output_type": "execute_result"
    }
   ],
   "source": [
    "retail.head(5)"
   ]
  },
  {
   "cell_type": "code",
   "execution_count": 8,
   "id": "cede1108",
   "metadata": {},
   "outputs": [
    {
     "data": {
      "text/plain": [
       "'Electronics'"
      ]
     },
     "execution_count": 8,
     "metadata": {},
     "output_type": "execute_result"
    }
   ],
   "source": [
    "retail.loc[3, 'Product Category']"
   ]
  },
  {
   "cell_type": "code",
   "execution_count": 9,
   "id": "1e8b8e88",
   "metadata": {},
   "outputs": [
    {
     "data": {
      "application/vnd.microsoft.datawrangler.viewer.v0+json": {
       "columns": [
        {
         "name": "index",
         "rawType": "object",
         "type": "string"
        },
        {
         "name": "0",
         "rawType": "int64",
         "type": "integer"
        }
       ],
       "ref": "4cb64307-fc99-4cb2-9536-569edea2902f",
       "rows": [
        [
         "Date",
         "42"
        ],
        [
         "Customer ID",
         "42"
        ],
        [
         "Gender",
         "42"
        ],
        [
         "Age",
         "42"
        ],
        [
         "Product Category",
         "42"
        ],
        [
         "Quantity",
         "42"
        ],
        [
         "Price per Unit",
         "42"
        ],
        [
         "Total Amount",
         "42"
        ]
       ],
       "shape": {
        "columns": 1,
        "rows": 8
       }
      },
      "text/plain": [
       "Date                42\n",
       "Customer ID         42\n",
       "Gender              42\n",
       "Age                 42\n",
       "Product Category    42\n",
       "Quantity            42\n",
       "Price per Unit      42\n",
       "Total Amount        42\n",
       "dtype: int64"
      ]
     },
     "execution_count": 9,
     "metadata": {},
     "output_type": "execute_result"
    }
   ],
   "source": [
    "retail[retail.loc[:,'Age'] < 20].count()"
   ]
  },
  {
   "cell_type": "code",
   "execution_count": 10,
   "id": "6ebc5603",
   "metadata": {},
   "outputs": [
    {
     "data": {
      "application/vnd.microsoft.datawrangler.viewer.v0+json": {
       "columns": [
        {
         "name": "index",
         "rawType": "object",
         "type": "string"
        },
        {
         "name": "3",
         "rawType": "object",
         "type": "unknown"
        }
       ],
       "ref": "63e72eed-ee12-4032-beb0-8d1b6ae4b6ab",
       "rows": [
        [
         "Date",
         "2023-01-13"
        ],
        [
         "Customer ID",
         "CUST003"
        ],
        [
         "Gender",
         "Male"
        ],
        [
         "Age",
         "50"
        ],
        [
         "Product Category",
         "Electronics"
        ],
        [
         "Quantity",
         "1"
        ],
        [
         "Price per Unit",
         "30"
        ],
        [
         "Total Amount",
         "30"
        ]
       ],
       "shape": {
        "columns": 1,
        "rows": 8
       }
      },
      "text/plain": [
       "Date                 2023-01-13\n",
       "Customer ID             CUST003\n",
       "Gender                     Male\n",
       "Age                          50\n",
       "Product Category    Electronics\n",
       "Quantity                      1\n",
       "Price per Unit               30\n",
       "Total Amount                 30\n",
       "Name: 3, dtype: object"
      ]
     },
     "execution_count": 10,
     "metadata": {},
     "output_type": "execute_result"
    }
   ],
   "source": [
    "retail.iloc[2,:]"
   ]
  },
  {
   "cell_type": "code",
   "execution_count": 11,
   "id": "24b50e20",
   "metadata": {},
   "outputs": [
    {
     "data": {
      "text/plain": [
       "'2023-05-21'"
      ]
     },
     "execution_count": 11,
     "metadata": {},
     "output_type": "execute_result"
    }
   ],
   "source": [
    "retail.iloc[3,0]"
   ]
  },
  {
   "cell_type": "code",
   "execution_count": 12,
   "id": "8457fd28",
   "metadata": {},
   "outputs": [
    {
     "data": {
      "application/vnd.microsoft.datawrangler.viewer.v0+json": {
       "columns": [
        {
         "name": "Transaction ID",
         "rawType": "int64",
         "type": "integer"
        },
        {
         "name": "Product Category",
         "rawType": "object",
         "type": "string"
        }
       ],
       "ref": "ded422bc-846a-4242-a974-bdb018ce0824",
       "rows": [
        [
         "1",
         "Beauty"
        ],
        [
         "2",
         "Clothing"
        ],
        [
         "3",
         "Electronics"
        ],
        [
         "4",
         "Clothing"
        ],
        [
         "5",
         "Beauty"
        ],
        [
         "6",
         "Beauty"
        ],
        [
         "7",
         "Clothing"
        ],
        [
         "8",
         "Electronics"
        ],
        [
         "9",
         "Electronics"
        ],
        [
         "10",
         "Clothing"
        ],
        [
         "11",
         "Clothing"
        ],
        [
         "12",
         "Beauty"
        ],
        [
         "13",
         "Electronics"
        ],
        [
         "14",
         "Clothing"
        ],
        [
         "15",
         "Electronics"
        ],
        [
         "16",
         "Clothing"
        ],
        [
         "17",
         "Clothing"
        ],
        [
         "18",
         "Electronics"
        ],
        [
         "19",
         "Clothing"
        ],
        [
         "20",
         "Clothing"
        ],
        [
         "21",
         "Beauty"
        ],
        [
         "22",
         "Clothing"
        ],
        [
         "23",
         "Clothing"
        ],
        [
         "24",
         "Clothing"
        ],
        [
         "25",
         "Beauty"
        ],
        [
         "26",
         "Electronics"
        ],
        [
         "27",
         "Beauty"
        ],
        [
         "28",
         "Beauty"
        ],
        [
         "29",
         "Electronics"
        ],
        [
         "30",
         "Beauty"
        ],
        [
         "31",
         "Electronics"
        ],
        [
         "32",
         "Beauty"
        ],
        [
         "33",
         "Electronics"
        ],
        [
         "34",
         "Clothing"
        ],
        [
         "35",
         "Beauty"
        ],
        [
         "36",
         "Beauty"
        ],
        [
         "37",
         "Beauty"
        ],
        [
         "38",
         "Beauty"
        ],
        [
         "39",
         "Clothing"
        ],
        [
         "40",
         "Beauty"
        ],
        [
         "41",
         "Clothing"
        ],
        [
         "42",
         "Clothing"
        ],
        [
         "43",
         "Clothing"
        ],
        [
         "44",
         "Clothing"
        ],
        [
         "45",
         "Electronics"
        ],
        [
         "46",
         "Electronics"
        ],
        [
         "47",
         "Beauty"
        ],
        [
         "48",
         "Electronics"
        ],
        [
         "49",
         "Electronics"
        ],
        [
         "50",
         "Beauty"
        ]
       ],
       "shape": {
        "columns": 1,
        "rows": 1000
       }
      },
      "text/plain": [
       "Transaction ID\n",
       "1            Beauty\n",
       "2          Clothing\n",
       "3       Electronics\n",
       "4          Clothing\n",
       "5            Beauty\n",
       "           ...     \n",
       "996        Clothing\n",
       "997          Beauty\n",
       "998          Beauty\n",
       "999     Electronics\n",
       "1000    Electronics\n",
       "Name: Product Category, Length: 1000, dtype: object"
      ]
     },
     "execution_count": 12,
     "metadata": {},
     "output_type": "execute_result"
    }
   ],
   "source": [
    "retail.iloc[:,4]"
   ]
  },
  {
   "cell_type": "code",
   "execution_count": 13,
   "id": "629793e9",
   "metadata": {},
   "outputs": [
    {
     "data": {
      "application/vnd.microsoft.datawrangler.viewer.v0+json": {
       "columns": [
        {
         "name": "Transaction ID",
         "rawType": "int64",
         "type": "integer"
        },
        {
         "name": "Date",
         "rawType": "object",
         "type": "string"
        },
        {
         "name": "Customer ID",
         "rawType": "object",
         "type": "string"
        },
        {
         "name": "Gender",
         "rawType": "object",
         "type": "string"
        },
        {
         "name": "Age",
         "rawType": "int64",
         "type": "integer"
        },
        {
         "name": "Product Category",
         "rawType": "object",
         "type": "string"
        },
        {
         "name": "Quantity",
         "rawType": "int64",
         "type": "integer"
        },
        {
         "name": "Price per Unit",
         "rawType": "int64",
         "type": "integer"
        },
        {
         "name": "Total Amount",
         "rawType": "int64",
         "type": "integer"
        }
       ],
       "ref": "1d02a221-eb40-40ac-9472-f5467b03be85",
       "rows": [
        [
         "3",
         "2023-01-13",
         "CUST003",
         "Male",
         "50",
         "Electronics",
         "1",
         "30",
         "30"
        ],
        [
         "8",
         "2023-02-22",
         "CUST008",
         "Male",
         "30",
         "Electronics",
         "4",
         "25",
         "100"
        ],
        [
         "9",
         "2023-12-13",
         "CUST009",
         "Male",
         "63",
         "Electronics",
         "2",
         "300",
         "600"
        ],
        [
         "13",
         "2023-08-05",
         "CUST013",
         "Male",
         "22",
         "Electronics",
         "3",
         "500",
         "1500"
        ],
        [
         "15",
         "2023-01-16",
         "CUST015",
         "Female",
         "42",
         "Electronics",
         "4",
         "500",
         "2000"
        ],
        [
         "18",
         "2023-04-30",
         "CUST018",
         "Female",
         "47",
         "Electronics",
         "2",
         "25",
         "50"
        ],
        [
         "26",
         "2023-10-07",
         "CUST026",
         "Female",
         "28",
         "Electronics",
         "2",
         "500",
         "1000"
        ],
        [
         "29",
         "2023-08-18",
         "CUST029",
         "Female",
         "42",
         "Electronics",
         "1",
         "30",
         "30"
        ],
        [
         "31",
         "2023-05-23",
         "CUST031",
         "Male",
         "44",
         "Electronics",
         "4",
         "300",
         "1200"
        ],
        [
         "33",
         "2023-03-23",
         "CUST033",
         "Female",
         "50",
         "Electronics",
         "2",
         "50",
         "100"
        ],
        [
         "45",
         "2023-07-03",
         "CUST045",
         "Female",
         "55",
         "Electronics",
         "1",
         "30",
         "30"
        ],
        [
         "46",
         "2023-06-26",
         "CUST046",
         "Female",
         "20",
         "Electronics",
         "4",
         "300",
         "1200"
        ],
        [
         "48",
         "2023-05-16",
         "CUST048",
         "Male",
         "54",
         "Electronics",
         "3",
         "300",
         "900"
        ],
        [
         "49",
         "2023-01-23",
         "CUST049",
         "Female",
         "54",
         "Electronics",
         "2",
         "500",
         "1000"
        ],
        [
         "53",
         "2023-07-13",
         "CUST053",
         "Male",
         "34",
         "Electronics",
         "2",
         "50",
         "100"
        ],
        [
         "54",
         "2023-02-10",
         "CUST054",
         "Female",
         "38",
         "Electronics",
         "3",
         "500",
         "1500"
        ],
        [
         "63",
         "2023-02-05",
         "CUST063",
         "Male",
         "57",
         "Electronics",
         "2",
         "25",
         "50"
        ],
        [
         "65",
         "2023-12-05",
         "CUST065",
         "Male",
         "51",
         "Electronics",
         "4",
         "500",
         "2000"
        ],
        [
         "66",
         "2023-04-27",
         "CUST066",
         "Female",
         "45",
         "Electronics",
         "1",
         "30",
         "30"
        ],
        [
         "68",
         "2023-02-10",
         "CUST068",
         "Male",
         "25",
         "Electronics",
         "1",
         "300",
         "300"
        ],
        [
         "72",
         "2023-05-23",
         "CUST072",
         "Female",
         "20",
         "Electronics",
         "4",
         "500",
         "2000"
        ],
        [
         "73",
         "2023-08-21",
         "CUST073",
         "Male",
         "29",
         "Electronics",
         "3",
         "30",
         "90"
        ],
        [
         "76",
         "2023-03-25",
         "CUST076",
         "Female",
         "22",
         "Electronics",
         "2",
         "50",
         "100"
        ],
        [
         "81",
         "2023-05-17",
         "CUST081",
         "Male",
         "40",
         "Electronics",
         "1",
         "50",
         "50"
        ],
        [
         "83",
         "2023-12-16",
         "CUST083",
         "Male",
         "54",
         "Electronics",
         "2",
         "50",
         "100"
        ],
        [
         "84",
         "2023-11-28",
         "CUST084",
         "Female",
         "38",
         "Electronics",
         "3",
         "30",
         "90"
        ],
        [
         "89",
         "2023-10-01",
         "CUST089",
         "Female",
         "55",
         "Electronics",
         "4",
         "500",
         "2000"
        ],
        [
         "90",
         "2023-05-06",
         "CUST090",
         "Female",
         "51",
         "Electronics",
         "1",
         "30",
         "30"
        ],
        [
         "91",
         "2023-03-25",
         "CUST091",
         "Female",
         "55",
         "Electronics",
         "1",
         "500",
         "500"
        ],
        [
         "92",
         "2023-08-25",
         "CUST092",
         "Female",
         "51",
         "Electronics",
         "4",
         "30",
         "120"
        ],
        [
         "99",
         "2023-12-17",
         "CUST099",
         "Female",
         "50",
         "Electronics",
         "4",
         "300",
         "1200"
        ],
        [
         "100",
         "2023-06-16",
         "CUST100",
         "Male",
         "41",
         "Electronics",
         "1",
         "30",
         "30"
        ],
        [
         "105",
         "2023-07-25",
         "CUST105",
         "Female",
         "22",
         "Electronics",
         "1",
         "500",
         "500"
        ],
        [
         "109",
         "2023-10-18",
         "CUST109",
         "Female",
         "34",
         "Electronics",
         "4",
         "500",
         "2000"
        ],
        [
         "111",
         "2023-04-19",
         "CUST111",
         "Female",
         "34",
         "Electronics",
         "3",
         "500",
         "1500"
        ],
        [
         "113",
         "2023-09-13",
         "CUST113",
         "Female",
         "41",
         "Electronics",
         "2",
         "25",
         "50"
        ],
        [
         "117",
         "2023-03-15",
         "CUST117",
         "Male",
         "19",
         "Electronics",
         "2",
         "500",
         "1000"
        ],
        [
         "118",
         "2023-05-16",
         "CUST118",
         "Female",
         "30",
         "Electronics",
         "4",
         "500",
         "2000"
        ],
        [
         "121",
         "2023-10-15",
         "CUST121",
         "Female",
         "28",
         "Electronics",
         "4",
         "50",
         "200"
        ],
        [
         "122",
         "2023-10-03",
         "CUST122",
         "Male",
         "64",
         "Electronics",
         "4",
         "30",
         "120"
        ],
        [
         "123",
         "2023-05-15",
         "CUST123",
         "Female",
         "40",
         "Electronics",
         "2",
         "30",
         "60"
        ],
        [
         "132",
         "2023-09-10",
         "CUST132",
         "Male",
         "42",
         "Electronics",
         "4",
         "50",
         "200"
        ],
        [
         "133",
         "2023-02-16",
         "CUST133",
         "Male",
         "20",
         "Electronics",
         "3",
         "300",
         "900"
        ],
        [
         "134",
         "2023-01-25",
         "CUST134",
         "Male",
         "49",
         "Electronics",
         "1",
         "50",
         "50"
        ],
        [
         "136",
         "2023-03-20",
         "CUST136",
         "Male",
         "44",
         "Electronics",
         "2",
         "300",
         "600"
        ],
        [
         "140",
         "2023-08-05",
         "CUST140",
         "Male",
         "38",
         "Electronics",
         "1",
         "30",
         "30"
        ],
        [
         "141",
         "2023-11-02",
         "CUST141",
         "Female",
         "22",
         "Electronics",
         "1",
         "50",
         "50"
        ],
        [
         "142",
         "2023-02-02",
         "CUST142",
         "Male",
         "35",
         "Electronics",
         "4",
         "300",
         "1200"
        ],
        [
         "147",
         "2023-09-28",
         "CUST147",
         "Male",
         "23",
         "Electronics",
         "1",
         "300",
         "300"
        ],
        [
         "150",
         "2023-01-06",
         "CUST150",
         "Female",
         "58",
         "Electronics",
         "4",
         "30",
         "120"
        ]
       ],
       "shape": {
        "columns": 8,
        "rows": 342
       }
      },
      "text/html": [
       "<div>\n",
       "<style scoped>\n",
       "    .dataframe tbody tr th:only-of-type {\n",
       "        vertical-align: middle;\n",
       "    }\n",
       "\n",
       "    .dataframe tbody tr th {\n",
       "        vertical-align: top;\n",
       "    }\n",
       "\n",
       "    .dataframe thead th {\n",
       "        text-align: right;\n",
       "    }\n",
       "</style>\n",
       "<table border=\"1\" class=\"dataframe\">\n",
       "  <thead>\n",
       "    <tr style=\"text-align: right;\">\n",
       "      <th></th>\n",
       "      <th>Date</th>\n",
       "      <th>Customer ID</th>\n",
       "      <th>Gender</th>\n",
       "      <th>Age</th>\n",
       "      <th>Product Category</th>\n",
       "      <th>Quantity</th>\n",
       "      <th>Price per Unit</th>\n",
       "      <th>Total Amount</th>\n",
       "    </tr>\n",
       "    <tr>\n",
       "      <th>Transaction ID</th>\n",
       "      <th></th>\n",
       "      <th></th>\n",
       "      <th></th>\n",
       "      <th></th>\n",
       "      <th></th>\n",
       "      <th></th>\n",
       "      <th></th>\n",
       "      <th></th>\n",
       "    </tr>\n",
       "  </thead>\n",
       "  <tbody>\n",
       "    <tr>\n",
       "      <th>3</th>\n",
       "      <td>2023-01-13</td>\n",
       "      <td>CUST003</td>\n",
       "      <td>Male</td>\n",
       "      <td>50</td>\n",
       "      <td>Electronics</td>\n",
       "      <td>1</td>\n",
       "      <td>30</td>\n",
       "      <td>30</td>\n",
       "    </tr>\n",
       "    <tr>\n",
       "      <th>8</th>\n",
       "      <td>2023-02-22</td>\n",
       "      <td>CUST008</td>\n",
       "      <td>Male</td>\n",
       "      <td>30</td>\n",
       "      <td>Electronics</td>\n",
       "      <td>4</td>\n",
       "      <td>25</td>\n",
       "      <td>100</td>\n",
       "    </tr>\n",
       "    <tr>\n",
       "      <th>9</th>\n",
       "      <td>2023-12-13</td>\n",
       "      <td>CUST009</td>\n",
       "      <td>Male</td>\n",
       "      <td>63</td>\n",
       "      <td>Electronics</td>\n",
       "      <td>2</td>\n",
       "      <td>300</td>\n",
       "      <td>600</td>\n",
       "    </tr>\n",
       "    <tr>\n",
       "      <th>13</th>\n",
       "      <td>2023-08-05</td>\n",
       "      <td>CUST013</td>\n",
       "      <td>Male</td>\n",
       "      <td>22</td>\n",
       "      <td>Electronics</td>\n",
       "      <td>3</td>\n",
       "      <td>500</td>\n",
       "      <td>1500</td>\n",
       "    </tr>\n",
       "    <tr>\n",
       "      <th>15</th>\n",
       "      <td>2023-01-16</td>\n",
       "      <td>CUST015</td>\n",
       "      <td>Female</td>\n",
       "      <td>42</td>\n",
       "      <td>Electronics</td>\n",
       "      <td>4</td>\n",
       "      <td>500</td>\n",
       "      <td>2000</td>\n",
       "    </tr>\n",
       "    <tr>\n",
       "      <th>...</th>\n",
       "      <td>...</td>\n",
       "      <td>...</td>\n",
       "      <td>...</td>\n",
       "      <td>...</td>\n",
       "      <td>...</td>\n",
       "      <td>...</td>\n",
       "      <td>...</td>\n",
       "      <td>...</td>\n",
       "    </tr>\n",
       "    <tr>\n",
       "      <th>989</th>\n",
       "      <td>2023-12-28</td>\n",
       "      <td>CUST989</td>\n",
       "      <td>Female</td>\n",
       "      <td>44</td>\n",
       "      <td>Electronics</td>\n",
       "      <td>1</td>\n",
       "      <td>25</td>\n",
       "      <td>25</td>\n",
       "    </tr>\n",
       "    <tr>\n",
       "      <th>992</th>\n",
       "      <td>2023-08-21</td>\n",
       "      <td>CUST992</td>\n",
       "      <td>Female</td>\n",
       "      <td>57</td>\n",
       "      <td>Electronics</td>\n",
       "      <td>2</td>\n",
       "      <td>30</td>\n",
       "      <td>60</td>\n",
       "    </tr>\n",
       "    <tr>\n",
       "      <th>993</th>\n",
       "      <td>2023-02-06</td>\n",
       "      <td>CUST993</td>\n",
       "      <td>Female</td>\n",
       "      <td>48</td>\n",
       "      <td>Electronics</td>\n",
       "      <td>3</td>\n",
       "      <td>50</td>\n",
       "      <td>150</td>\n",
       "    </tr>\n",
       "    <tr>\n",
       "      <th>999</th>\n",
       "      <td>2023-12-05</td>\n",
       "      <td>CUST999</td>\n",
       "      <td>Female</td>\n",
       "      <td>36</td>\n",
       "      <td>Electronics</td>\n",
       "      <td>3</td>\n",
       "      <td>50</td>\n",
       "      <td>150</td>\n",
       "    </tr>\n",
       "    <tr>\n",
       "      <th>1000</th>\n",
       "      <td>2023-04-12</td>\n",
       "      <td>CUST1000</td>\n",
       "      <td>Male</td>\n",
       "      <td>47</td>\n",
       "      <td>Electronics</td>\n",
       "      <td>4</td>\n",
       "      <td>30</td>\n",
       "      <td>120</td>\n",
       "    </tr>\n",
       "  </tbody>\n",
       "</table>\n",
       "<p>342 rows × 8 columns</p>\n",
       "</div>"
      ],
      "text/plain": [
       "                      Date Customer ID  Gender  Age Product Category  \\\n",
       "Transaction ID                                                         \n",
       "3               2023-01-13     CUST003    Male   50      Electronics   \n",
       "8               2023-02-22     CUST008    Male   30      Electronics   \n",
       "9               2023-12-13     CUST009    Male   63      Electronics   \n",
       "13              2023-08-05     CUST013    Male   22      Electronics   \n",
       "15              2023-01-16     CUST015  Female   42      Electronics   \n",
       "...                    ...         ...     ...  ...              ...   \n",
       "989             2023-12-28     CUST989  Female   44      Electronics   \n",
       "992             2023-08-21     CUST992  Female   57      Electronics   \n",
       "993             2023-02-06     CUST993  Female   48      Electronics   \n",
       "999             2023-12-05     CUST999  Female   36      Electronics   \n",
       "1000            2023-04-12    CUST1000    Male   47      Electronics   \n",
       "\n",
       "                Quantity  Price per Unit  Total Amount  \n",
       "Transaction ID                                          \n",
       "3                      1              30            30  \n",
       "8                      4              25           100  \n",
       "9                      2             300           600  \n",
       "13                     3             500          1500  \n",
       "15                     4             500          2000  \n",
       "...                  ...             ...           ...  \n",
       "989                    1              25            25  \n",
       "992                    2              30            60  \n",
       "993                    3              50           150  \n",
       "999                    3              50           150  \n",
       "1000                   4              30           120  \n",
       "\n",
       "[342 rows x 8 columns]"
      ]
     },
     "execution_count": 13,
     "metadata": {},
     "output_type": "execute_result"
    }
   ],
   "source": [
    "# For setting a filter to get the data \n",
    "\n",
    "retail.loc[retail['Product Category'] == 'Electronics', :]"
   ]
  },
  {
   "cell_type": "code",
   "execution_count": 14,
   "id": "8278b72f",
   "metadata": {},
   "outputs": [
    {
     "data": {
      "application/vnd.microsoft.datawrangler.viewer.v0+json": {
       "columns": [
        {
         "name": "Transaction ID",
         "rawType": "int64",
         "type": "integer"
        },
        {
         "name": "Customer ID",
         "rawType": "object",
         "type": "string"
        },
        {
         "name": "Total Amount",
         "rawType": "int64",
         "type": "integer"
        }
       ],
       "ref": "c5aaab13-4932-4dfa-b679-9df27dab4b1d",
       "rows": [
        [
         "3",
         "CUST003",
         "30"
        ],
        [
         "8",
         "CUST008",
         "100"
        ],
        [
         "9",
         "CUST009",
         "600"
        ],
        [
         "13",
         "CUST013",
         "1500"
        ],
        [
         "15",
         "CUST015",
         "2000"
        ],
        [
         "18",
         "CUST018",
         "50"
        ],
        [
         "26",
         "CUST026",
         "1000"
        ],
        [
         "29",
         "CUST029",
         "30"
        ],
        [
         "31",
         "CUST031",
         "1200"
        ],
        [
         "33",
         "CUST033",
         "100"
        ],
        [
         "45",
         "CUST045",
         "30"
        ],
        [
         "46",
         "CUST046",
         "1200"
        ],
        [
         "48",
         "CUST048",
         "900"
        ],
        [
         "49",
         "CUST049",
         "1000"
        ],
        [
         "53",
         "CUST053",
         "100"
        ],
        [
         "54",
         "CUST054",
         "1500"
        ],
        [
         "63",
         "CUST063",
         "50"
        ],
        [
         "65",
         "CUST065",
         "2000"
        ],
        [
         "66",
         "CUST066",
         "30"
        ],
        [
         "68",
         "CUST068",
         "300"
        ],
        [
         "72",
         "CUST072",
         "2000"
        ],
        [
         "73",
         "CUST073",
         "90"
        ],
        [
         "76",
         "CUST076",
         "100"
        ],
        [
         "81",
         "CUST081",
         "50"
        ],
        [
         "83",
         "CUST083",
         "100"
        ],
        [
         "84",
         "CUST084",
         "90"
        ],
        [
         "89",
         "CUST089",
         "2000"
        ],
        [
         "90",
         "CUST090",
         "30"
        ],
        [
         "91",
         "CUST091",
         "500"
        ],
        [
         "92",
         "CUST092",
         "120"
        ],
        [
         "99",
         "CUST099",
         "1200"
        ],
        [
         "100",
         "CUST100",
         "30"
        ],
        [
         "105",
         "CUST105",
         "500"
        ],
        [
         "109",
         "CUST109",
         "2000"
        ],
        [
         "111",
         "CUST111",
         "1500"
        ],
        [
         "113",
         "CUST113",
         "50"
        ],
        [
         "117",
         "CUST117",
         "1000"
        ],
        [
         "118",
         "CUST118",
         "2000"
        ],
        [
         "121",
         "CUST121",
         "200"
        ],
        [
         "122",
         "CUST122",
         "120"
        ],
        [
         "123",
         "CUST123",
         "60"
        ],
        [
         "132",
         "CUST132",
         "200"
        ],
        [
         "133",
         "CUST133",
         "900"
        ],
        [
         "134",
         "CUST134",
         "50"
        ],
        [
         "136",
         "CUST136",
         "600"
        ],
        [
         "140",
         "CUST140",
         "30"
        ],
        [
         "141",
         "CUST141",
         "50"
        ],
        [
         "142",
         "CUST142",
         "1200"
        ],
        [
         "147",
         "CUST147",
         "300"
        ],
        [
         "150",
         "CUST150",
         "120"
        ]
       ],
       "shape": {
        "columns": 2,
        "rows": 342
       }
      },
      "text/html": [
       "<div>\n",
       "<style scoped>\n",
       "    .dataframe tbody tr th:only-of-type {\n",
       "        vertical-align: middle;\n",
       "    }\n",
       "\n",
       "    .dataframe tbody tr th {\n",
       "        vertical-align: top;\n",
       "    }\n",
       "\n",
       "    .dataframe thead th {\n",
       "        text-align: right;\n",
       "    }\n",
       "</style>\n",
       "<table border=\"1\" class=\"dataframe\">\n",
       "  <thead>\n",
       "    <tr style=\"text-align: right;\">\n",
       "      <th></th>\n",
       "      <th>Customer ID</th>\n",
       "      <th>Total Amount</th>\n",
       "    </tr>\n",
       "    <tr>\n",
       "      <th>Transaction ID</th>\n",
       "      <th></th>\n",
       "      <th></th>\n",
       "    </tr>\n",
       "  </thead>\n",
       "  <tbody>\n",
       "    <tr>\n",
       "      <th>3</th>\n",
       "      <td>CUST003</td>\n",
       "      <td>30</td>\n",
       "    </tr>\n",
       "    <tr>\n",
       "      <th>8</th>\n",
       "      <td>CUST008</td>\n",
       "      <td>100</td>\n",
       "    </tr>\n",
       "    <tr>\n",
       "      <th>9</th>\n",
       "      <td>CUST009</td>\n",
       "      <td>600</td>\n",
       "    </tr>\n",
       "    <tr>\n",
       "      <th>13</th>\n",
       "      <td>CUST013</td>\n",
       "      <td>1500</td>\n",
       "    </tr>\n",
       "    <tr>\n",
       "      <th>15</th>\n",
       "      <td>CUST015</td>\n",
       "      <td>2000</td>\n",
       "    </tr>\n",
       "    <tr>\n",
       "      <th>...</th>\n",
       "      <td>...</td>\n",
       "      <td>...</td>\n",
       "    </tr>\n",
       "    <tr>\n",
       "      <th>989</th>\n",
       "      <td>CUST989</td>\n",
       "      <td>25</td>\n",
       "    </tr>\n",
       "    <tr>\n",
       "      <th>992</th>\n",
       "      <td>CUST992</td>\n",
       "      <td>60</td>\n",
       "    </tr>\n",
       "    <tr>\n",
       "      <th>993</th>\n",
       "      <td>CUST993</td>\n",
       "      <td>150</td>\n",
       "    </tr>\n",
       "    <tr>\n",
       "      <th>999</th>\n",
       "      <td>CUST999</td>\n",
       "      <td>150</td>\n",
       "    </tr>\n",
       "    <tr>\n",
       "      <th>1000</th>\n",
       "      <td>CUST1000</td>\n",
       "      <td>120</td>\n",
       "    </tr>\n",
       "  </tbody>\n",
       "</table>\n",
       "<p>342 rows × 2 columns</p>\n",
       "</div>"
      ],
      "text/plain": [
       "               Customer ID  Total Amount\n",
       "Transaction ID                          \n",
       "3                  CUST003            30\n",
       "8                  CUST008           100\n",
       "9                  CUST009           600\n",
       "13                 CUST013          1500\n",
       "15                 CUST015          2000\n",
       "...                    ...           ...\n",
       "989                CUST989            25\n",
       "992                CUST992            60\n",
       "993                CUST993           150\n",
       "999                CUST999           150\n",
       "1000              CUST1000           120\n",
       "\n",
       "[342 rows x 2 columns]"
      ]
     },
     "execution_count": 14,
     "metadata": {},
     "output_type": "execute_result"
    }
   ],
   "source": [
    "retail.loc[(retail['Product Category'] == 'Electronics'), ['Customer ID' , 'Total Amount']]"
   ]
  },
  {
   "cell_type": "code",
   "execution_count": 26,
   "id": "3c3e6c03",
   "metadata": {},
   "outputs": [
    {
     "data": {
      "application/vnd.microsoft.datawrangler.viewer.v0+json": {
       "columns": [
        {
         "name": "Transaction ID",
         "rawType": "int64",
         "type": "integer"
        },
        {
         "name": "Date",
         "rawType": "object",
         "type": "string"
        },
        {
         "name": "Gender",
         "rawType": "object",
         "type": "string"
        },
        {
         "name": "Price per Unit",
         "rawType": "int64",
         "type": "integer"
        },
        {
         "name": "Total Amount",
         "rawType": "int64",
         "type": "integer"
        }
       ],
       "ref": "a8ae0fe3-0216-417f-9ac7-edfa2fb0bcb1",
       "rows": [
        [
         "124",
         "2023-10-27",
         "Male",
         "500",
         "2000"
        ],
        [
         "269",
         "2023-02-01",
         "Male",
         "500",
         "2000"
        ],
        [
         "253",
         "2023-08-31",
         "Female",
         "500",
         "2000"
        ],
        [
         "166",
         "2023-04-02",
         "Male",
         "500",
         "2000"
        ],
        [
         "420",
         "2023-01-23",
         "Female",
         "500",
         "2000"
        ],
        [
         "342",
         "2023-10-24",
         "Female",
         "500",
         "2000"
        ],
        [
         "789",
         "2023-09-30",
         "Female",
         "500",
         "2000"
        ],
        [
         "731",
         "2023-05-10",
         "Male",
         "500",
         "2000"
        ],
        [
         "595",
         "2023-11-09",
         "Female",
         "500",
         "2000"
        ],
        [
         "626",
         "2023-09-29",
         "Female",
         "500",
         "2000"
        ],
        [
         "664",
         "2023-12-28",
         "Female",
         "500",
         "2000"
        ],
        [
         "572",
         "2023-04-20",
         "Male",
         "500",
         "2000"
        ],
        [
         "547",
         "2023-03-07",
         "Male",
         "500",
         "2000"
        ],
        [
         "561",
         "2023-05-27",
         "Female",
         "500",
         "2000"
        ],
        [
         "487",
         "2023-07-24",
         "Male",
         "500",
         "2000"
        ],
        [
         "476",
         "2023-08-29",
         "Female",
         "500",
         "2000"
        ],
        [
         "735",
         "2023-10-04",
         "Female",
         "500",
         "2000"
        ],
        [
         "580",
         "2023-12-06",
         "Female",
         "500",
         "1500"
        ],
        [
         "673",
         "2023-02-01",
         "Female",
         "500",
         "1500"
        ],
        [
         "942",
         "2023-03-18",
         "Male",
         "500",
         "1500"
        ],
        [
         "647",
         "2023-05-21",
         "Male",
         "500",
         "1500"
        ],
        [
         "474",
         "2023-07-15",
         "Female",
         "500",
         "1500"
        ],
        [
         "115",
         "2023-11-26",
         "Male",
         "500",
         "1500"
        ],
        [
         "78",
         "2023-07-01",
         "Female",
         "500",
         "1500"
        ],
        [
         "215",
         "2023-11-29",
         "Male",
         "500",
         "1500"
        ],
        [
         "212",
         "2023-06-09",
         "Male",
         "500",
         "1500"
        ],
        [
         "112",
         "2023-12-02",
         "Male",
         "500",
         "1500"
        ],
        [
         "452",
         "2023-05-08",
         "Female",
         "500",
         "1500"
        ],
        [
         "280",
         "2023-04-04",
         "Female",
         "500",
         "1500"
        ],
        [
         "421",
         "2023-01-02",
         "Female",
         "500",
         "1500"
        ],
        [
         "16",
         "2023-02-17",
         "Male",
         "500",
         "1500"
        ],
        [
         "956",
         "2023-08-19",
         "Male",
         "500",
         "1500"
        ],
        [
         "2",
         "2023-02-27",
         "Female",
         "500",
         "1000"
        ],
        [
         "986",
         "2023-01-17",
         "Female",
         "500",
         "1000"
        ],
        [
         "534",
         "2023-06-10",
         "Male",
         "500",
         "1000"
        ],
        [
         "684",
         "2023-06-30",
         "Female",
         "500",
         "1000"
        ],
        [
         "256",
         "2023-02-18",
         "Male",
         "500",
         "1000"
        ],
        [
         "382",
         "2023-05-26",
         "Female",
         "500",
         "1000"
        ],
        [
         "470",
         "2023-05-17",
         "Female",
         "500",
         "1000"
        ],
        [
         "453",
         "2023-12-08",
         "Female",
         "500",
         "1000"
        ],
        [
         "274",
         "2023-04-09",
         "Female",
         "500",
         "1000"
        ],
        [
         "275",
         "2023-04-08",
         "Male",
         "500",
         "1000"
        ],
        [
         "346",
         "2023-02-11",
         "Male",
         "500",
         "1000"
        ],
        [
         "203",
         "2023-05-16",
         "Male",
         "500",
         "1000"
        ],
        [
         "279",
         "2023-08-05",
         "Male",
         "500",
         "500"
        ],
        [
         "4",
         "2023-05-21",
         "Male",
         "500",
         "500"
        ],
        [
         "88",
         "2023-03-29",
         "Male",
         "500",
         "500"
        ],
        [
         "130",
         "2023-03-12",
         "Female",
         "500",
         "500"
        ],
        [
         "384",
         "2023-08-13",
         "Male",
         "500",
         "500"
        ],
        [
         "394",
         "2023-06-03",
         "Female",
         "500",
         "500"
        ]
       ],
       "shape": {
        "columns": 4,
        "rows": 64
       }
      },
      "text/html": [
       "<div>\n",
       "<style scoped>\n",
       "    .dataframe tbody tr th:only-of-type {\n",
       "        vertical-align: middle;\n",
       "    }\n",
       "\n",
       "    .dataframe tbody tr th {\n",
       "        vertical-align: top;\n",
       "    }\n",
       "\n",
       "    .dataframe thead th {\n",
       "        text-align: right;\n",
       "    }\n",
       "</style>\n",
       "<table border=\"1\" class=\"dataframe\">\n",
       "  <thead>\n",
       "    <tr style=\"text-align: right;\">\n",
       "      <th></th>\n",
       "      <th>Date</th>\n",
       "      <th>Gender</th>\n",
       "      <th>Price per Unit</th>\n",
       "      <th>Total Amount</th>\n",
       "    </tr>\n",
       "    <tr>\n",
       "      <th>Transaction ID</th>\n",
       "      <th></th>\n",
       "      <th></th>\n",
       "      <th></th>\n",
       "      <th></th>\n",
       "    </tr>\n",
       "  </thead>\n",
       "  <tbody>\n",
       "    <tr>\n",
       "      <th>124</th>\n",
       "      <td>2023-10-27</td>\n",
       "      <td>Male</td>\n",
       "      <td>500</td>\n",
       "      <td>2000</td>\n",
       "    </tr>\n",
       "    <tr>\n",
       "      <th>269</th>\n",
       "      <td>2023-02-01</td>\n",
       "      <td>Male</td>\n",
       "      <td>500</td>\n",
       "      <td>2000</td>\n",
       "    </tr>\n",
       "    <tr>\n",
       "      <th>253</th>\n",
       "      <td>2023-08-31</td>\n",
       "      <td>Female</td>\n",
       "      <td>500</td>\n",
       "      <td>2000</td>\n",
       "    </tr>\n",
       "    <tr>\n",
       "      <th>166</th>\n",
       "      <td>2023-04-02</td>\n",
       "      <td>Male</td>\n",
       "      <td>500</td>\n",
       "      <td>2000</td>\n",
       "    </tr>\n",
       "    <tr>\n",
       "      <th>420</th>\n",
       "      <td>2023-01-23</td>\n",
       "      <td>Female</td>\n",
       "      <td>500</td>\n",
       "      <td>2000</td>\n",
       "    </tr>\n",
       "    <tr>\n",
       "      <th>...</th>\n",
       "      <td>...</td>\n",
       "      <td>...</td>\n",
       "      <td>...</td>\n",
       "      <td>...</td>\n",
       "    </tr>\n",
       "    <tr>\n",
       "      <th>717</th>\n",
       "      <td>2023-03-11</td>\n",
       "      <td>Male</td>\n",
       "      <td>500</td>\n",
       "      <td>500</td>\n",
       "    </tr>\n",
       "    <tr>\n",
       "      <th>904</th>\n",
       "      <td>2023-07-04</td>\n",
       "      <td>Male</td>\n",
       "      <td>500</td>\n",
       "      <td>500</td>\n",
       "    </tr>\n",
       "    <tr>\n",
       "      <th>845</th>\n",
       "      <td>2023-01-06</td>\n",
       "      <td>Male</td>\n",
       "      <td>500</td>\n",
       "      <td>500</td>\n",
       "    </tr>\n",
       "    <tr>\n",
       "      <th>814</th>\n",
       "      <td>2023-09-05</td>\n",
       "      <td>Female</td>\n",
       "      <td>500</td>\n",
       "      <td>500</td>\n",
       "    </tr>\n",
       "    <tr>\n",
       "      <th>984</th>\n",
       "      <td>2023-08-29</td>\n",
       "      <td>Male</td>\n",
       "      <td>500</td>\n",
       "      <td>500</td>\n",
       "    </tr>\n",
       "  </tbody>\n",
       "</table>\n",
       "<p>64 rows × 4 columns</p>\n",
       "</div>"
      ],
      "text/plain": [
       "                      Date  Gender  Price per Unit  Total Amount\n",
       "Transaction ID                                                  \n",
       "124             2023-10-27    Male             500          2000\n",
       "269             2023-02-01    Male             500          2000\n",
       "253             2023-08-31  Female             500          2000\n",
       "166             2023-04-02    Male             500          2000\n",
       "420             2023-01-23  Female             500          2000\n",
       "...                    ...     ...             ...           ...\n",
       "717             2023-03-11    Male             500           500\n",
       "904             2023-07-04    Male             500           500\n",
       "845             2023-01-06    Male             500           500\n",
       "814             2023-09-05  Female             500           500\n",
       "984             2023-08-29    Male             500           500\n",
       "\n",
       "[64 rows x 4 columns]"
      ]
     },
     "execution_count": 26,
     "metadata": {},
     "output_type": "execute_result"
    }
   ],
   "source": [
    "# Additing more conditions \n",
    "\n",
    "retail.loc[\n",
    "    (retail['Product Category'] == 'Clothing') & (retail['Price per Unit'] > 300),\n",
    "           ['Date', 'Gender', 'Price per Unit', 'Total Amount']\n",
    "           ].sort_values('Total Amount', ascending=False)"
   ]
  },
  {
   "cell_type": "markdown",
   "id": "cc9564a2",
   "metadata": {},
   "source": [
    "# Filtering data with conditions"
   ]
  },
  {
   "cell_type": "code",
   "execution_count": 16,
   "id": "ab4085ac",
   "metadata": {},
   "outputs": [
    {
     "data": {
      "application/vnd.microsoft.datawrangler.viewer.v0+json": {
       "columns": [
        {
         "name": "Transaction ID",
         "rawType": "int64",
         "type": "integer"
        },
        {
         "name": "Date",
         "rawType": "object",
         "type": "string"
        },
        {
         "name": "Customer ID",
         "rawType": "object",
         "type": "string"
        },
        {
         "name": "Gender",
         "rawType": "object",
         "type": "string"
        },
        {
         "name": "Age",
         "rawType": "int64",
         "type": "integer"
        },
        {
         "name": "Product Category",
         "rawType": "object",
         "type": "string"
        },
        {
         "name": "Quantity",
         "rawType": "int64",
         "type": "integer"
        },
        {
         "name": "Price per Unit",
         "rawType": "int64",
         "type": "integer"
        },
        {
         "name": "Total Amount",
         "rawType": "int64",
         "type": "integer"
        }
       ],
       "ref": "197bc01f-42f1-41b1-8398-c1a4592f374a",
       "rows": [
        [
         "1",
         "2023-11-24",
         "CUST001",
         "Male",
         "34",
         "Beauty",
         "3",
         "50",
         "150"
        ],
        [
         "2",
         "2023-02-27",
         "CUST002",
         "Female",
         "26",
         "Clothing",
         "2",
         "500",
         "1000"
        ],
        [
         "3",
         "2023-01-13",
         "CUST003",
         "Male",
         "50",
         "Electronics",
         "1",
         "30",
         "30"
        ],
        [
         "4",
         "2023-05-21",
         "CUST004",
         "Male",
         "37",
         "Clothing",
         "1",
         "500",
         "500"
        ],
        [
         "5",
         "2023-05-06",
         "CUST005",
         "Male",
         "30",
         "Beauty",
         "2",
         "50",
         "100"
        ],
        [
         "6",
         "2023-04-25",
         "CUST006",
         "Female",
         "45",
         "Beauty",
         "1",
         "30",
         "30"
        ],
        [
         "7",
         "2023-03-13",
         "CUST007",
         "Male",
         "46",
         "Clothing",
         "2",
         "25",
         "50"
        ],
        [
         "8",
         "2023-02-22",
         "CUST008",
         "Male",
         "30",
         "Electronics",
         "4",
         "25",
         "100"
        ],
        [
         "9",
         "2023-12-13",
         "CUST009",
         "Male",
         "63",
         "Electronics",
         "2",
         "300",
         "600"
        ],
        [
         "10",
         "2023-10-07",
         "CUST010",
         "Female",
         "52",
         "Clothing",
         "4",
         "50",
         "200"
        ]
       ],
       "shape": {
        "columns": 8,
        "rows": 10
       }
      },
      "text/html": [
       "<div>\n",
       "<style scoped>\n",
       "    .dataframe tbody tr th:only-of-type {\n",
       "        vertical-align: middle;\n",
       "    }\n",
       "\n",
       "    .dataframe tbody tr th {\n",
       "        vertical-align: top;\n",
       "    }\n",
       "\n",
       "    .dataframe thead th {\n",
       "        text-align: right;\n",
       "    }\n",
       "</style>\n",
       "<table border=\"1\" class=\"dataframe\">\n",
       "  <thead>\n",
       "    <tr style=\"text-align: right;\">\n",
       "      <th></th>\n",
       "      <th>Date</th>\n",
       "      <th>Customer ID</th>\n",
       "      <th>Gender</th>\n",
       "      <th>Age</th>\n",
       "      <th>Product Category</th>\n",
       "      <th>Quantity</th>\n",
       "      <th>Price per Unit</th>\n",
       "      <th>Total Amount</th>\n",
       "    </tr>\n",
       "    <tr>\n",
       "      <th>Transaction ID</th>\n",
       "      <th></th>\n",
       "      <th></th>\n",
       "      <th></th>\n",
       "      <th></th>\n",
       "      <th></th>\n",
       "      <th></th>\n",
       "      <th></th>\n",
       "      <th></th>\n",
       "    </tr>\n",
       "  </thead>\n",
       "  <tbody>\n",
       "    <tr>\n",
       "      <th>1</th>\n",
       "      <td>2023-11-24</td>\n",
       "      <td>CUST001</td>\n",
       "      <td>Male</td>\n",
       "      <td>34</td>\n",
       "      <td>Beauty</td>\n",
       "      <td>3</td>\n",
       "      <td>50</td>\n",
       "      <td>150</td>\n",
       "    </tr>\n",
       "    <tr>\n",
       "      <th>2</th>\n",
       "      <td>2023-02-27</td>\n",
       "      <td>CUST002</td>\n",
       "      <td>Female</td>\n",
       "      <td>26</td>\n",
       "      <td>Clothing</td>\n",
       "      <td>2</td>\n",
       "      <td>500</td>\n",
       "      <td>1000</td>\n",
       "    </tr>\n",
       "    <tr>\n",
       "      <th>3</th>\n",
       "      <td>2023-01-13</td>\n",
       "      <td>CUST003</td>\n",
       "      <td>Male</td>\n",
       "      <td>50</td>\n",
       "      <td>Electronics</td>\n",
       "      <td>1</td>\n",
       "      <td>30</td>\n",
       "      <td>30</td>\n",
       "    </tr>\n",
       "    <tr>\n",
       "      <th>4</th>\n",
       "      <td>2023-05-21</td>\n",
       "      <td>CUST004</td>\n",
       "      <td>Male</td>\n",
       "      <td>37</td>\n",
       "      <td>Clothing</td>\n",
       "      <td>1</td>\n",
       "      <td>500</td>\n",
       "      <td>500</td>\n",
       "    </tr>\n",
       "    <tr>\n",
       "      <th>5</th>\n",
       "      <td>2023-05-06</td>\n",
       "      <td>CUST005</td>\n",
       "      <td>Male</td>\n",
       "      <td>30</td>\n",
       "      <td>Beauty</td>\n",
       "      <td>2</td>\n",
       "      <td>50</td>\n",
       "      <td>100</td>\n",
       "    </tr>\n",
       "    <tr>\n",
       "      <th>6</th>\n",
       "      <td>2023-04-25</td>\n",
       "      <td>CUST006</td>\n",
       "      <td>Female</td>\n",
       "      <td>45</td>\n",
       "      <td>Beauty</td>\n",
       "      <td>1</td>\n",
       "      <td>30</td>\n",
       "      <td>30</td>\n",
       "    </tr>\n",
       "    <tr>\n",
       "      <th>7</th>\n",
       "      <td>2023-03-13</td>\n",
       "      <td>CUST007</td>\n",
       "      <td>Male</td>\n",
       "      <td>46</td>\n",
       "      <td>Clothing</td>\n",
       "      <td>2</td>\n",
       "      <td>25</td>\n",
       "      <td>50</td>\n",
       "    </tr>\n",
       "    <tr>\n",
       "      <th>8</th>\n",
       "      <td>2023-02-22</td>\n",
       "      <td>CUST008</td>\n",
       "      <td>Male</td>\n",
       "      <td>30</td>\n",
       "      <td>Electronics</td>\n",
       "      <td>4</td>\n",
       "      <td>25</td>\n",
       "      <td>100</td>\n",
       "    </tr>\n",
       "    <tr>\n",
       "      <th>9</th>\n",
       "      <td>2023-12-13</td>\n",
       "      <td>CUST009</td>\n",
       "      <td>Male</td>\n",
       "      <td>63</td>\n",
       "      <td>Electronics</td>\n",
       "      <td>2</td>\n",
       "      <td>300</td>\n",
       "      <td>600</td>\n",
       "    </tr>\n",
       "    <tr>\n",
       "      <th>10</th>\n",
       "      <td>2023-10-07</td>\n",
       "      <td>CUST010</td>\n",
       "      <td>Female</td>\n",
       "      <td>52</td>\n",
       "      <td>Clothing</td>\n",
       "      <td>4</td>\n",
       "      <td>50</td>\n",
       "      <td>200</td>\n",
       "    </tr>\n",
       "  </tbody>\n",
       "</table>\n",
       "</div>"
      ],
      "text/plain": [
       "                      Date Customer ID  Gender  Age Product Category  \\\n",
       "Transaction ID                                                         \n",
       "1               2023-11-24     CUST001    Male   34           Beauty   \n",
       "2               2023-02-27     CUST002  Female   26         Clothing   \n",
       "3               2023-01-13     CUST003    Male   50      Electronics   \n",
       "4               2023-05-21     CUST004    Male   37         Clothing   \n",
       "5               2023-05-06     CUST005    Male   30           Beauty   \n",
       "6               2023-04-25     CUST006  Female   45           Beauty   \n",
       "7               2023-03-13     CUST007    Male   46         Clothing   \n",
       "8               2023-02-22     CUST008    Male   30      Electronics   \n",
       "9               2023-12-13     CUST009    Male   63      Electronics   \n",
       "10              2023-10-07     CUST010  Female   52         Clothing   \n",
       "\n",
       "                Quantity  Price per Unit  Total Amount  \n",
       "Transaction ID                                          \n",
       "1                      3              50           150  \n",
       "2                      2             500          1000  \n",
       "3                      1              30            30  \n",
       "4                      1             500           500  \n",
       "5                      2              50           100  \n",
       "6                      1              30            30  \n",
       "7                      2              25            50  \n",
       "8                      4              25           100  \n",
       "9                      2             300           600  \n",
       "10                     4              50           200  "
      ]
     },
     "execution_count": 16,
     "metadata": {},
     "output_type": "execute_result"
    }
   ],
   "source": [
    "retail.head(10)"
   ]
  },
  {
   "cell_type": "code",
   "execution_count": 24,
   "id": "a226fb69",
   "metadata": {},
   "outputs": [
    {
     "data": {
      "application/vnd.microsoft.datawrangler.viewer.v0+json": {
       "columns": [
        {
         "name": "Transaction ID",
         "rawType": "int64",
         "type": "integer"
        },
        {
         "name": "Date",
         "rawType": "object",
         "type": "string"
        },
        {
         "name": "Customer ID",
         "rawType": "object",
         "type": "string"
        },
        {
         "name": "Gender",
         "rawType": "object",
         "type": "string"
        },
        {
         "name": "Age",
         "rawType": "int64",
         "type": "integer"
        },
        {
         "name": "Product Category",
         "rawType": "object",
         "type": "string"
        },
        {
         "name": "Quantity",
         "rawType": "int64",
         "type": "integer"
        },
        {
         "name": "Price per Unit",
         "rawType": "int64",
         "type": "integer"
        },
        {
         "name": "Total Amount",
         "rawType": "int64",
         "type": "integer"
        },
        {
         "name": "GST",
         "rawType": "float64",
         "type": "float"
        }
       ],
       "ref": "76a9d401-6f9c-4427-b01e-b73cd999d521",
       "rows": [
        [
         "253",
         "2023-08-31",
         "CUST253",
         "Female",
         "53",
         "Clothing",
         "4",
         "500",
         "2000",
         "360.0"
        ],
        [
         "561",
         "2023-05-27",
         "CUST561",
         "Female",
         "64",
         "Clothing",
         "4",
         "500",
         "2000",
         "360.0"
        ],
        [
         "476",
         "2023-08-29",
         "CUST476",
         "Female",
         "27",
         "Clothing",
         "4",
         "500",
         "2000",
         "360.0"
        ],
        [
         "626",
         "2023-09-29",
         "CUST626",
         "Female",
         "26",
         "Clothing",
         "4",
         "500",
         "2000",
         "360.0"
        ],
        [
         "420",
         "2023-01-23",
         "CUST420",
         "Female",
         "22",
         "Clothing",
         "4",
         "500",
         "2000",
         "360.0"
        ],
        [
         "789",
         "2023-09-30",
         "CUST789",
         "Female",
         "61",
         "Clothing",
         "4",
         "500",
         "2000",
         "360.0"
        ],
        [
         "664",
         "2023-12-28",
         "CUST664",
         "Female",
         "44",
         "Clothing",
         "4",
         "500",
         "2000",
         "360.0"
        ],
        [
         "735",
         "2023-10-04",
         "CUST735",
         "Female",
         "64",
         "Clothing",
         "4",
         "500",
         "2000",
         "360.0"
        ],
        [
         "595",
         "2023-11-09",
         "CUST595",
         "Female",
         "18",
         "Clothing",
         "4",
         "500",
         "2000",
         "360.0"
        ],
        [
         "342",
         "2023-10-24",
         "CUST342",
         "Female",
         "43",
         "Clothing",
         "4",
         "500",
         "2000",
         "360.0"
        ],
        [
         "280",
         "2023-04-04",
         "CUST280",
         "Female",
         "37",
         "Clothing",
         "3",
         "500",
         "1500",
         "270.0"
        ],
        [
         "474",
         "2023-07-15",
         "CUST474",
         "Female",
         "26",
         "Clothing",
         "3",
         "500",
         "1500",
         "270.0"
        ],
        [
         "452",
         "2023-05-08",
         "CUST452",
         "Female",
         "48",
         "Clothing",
         "3",
         "500",
         "1500",
         "270.0"
        ],
        [
         "78",
         "2023-07-01",
         "CUST078",
         "Female",
         "47",
         "Clothing",
         "3",
         "500",
         "1500",
         "270.0"
        ],
        [
         "580",
         "2023-12-06",
         "CUST580",
         "Female",
         "31",
         "Clothing",
         "3",
         "500",
         "1500",
         "270.0"
        ],
        [
         "421",
         "2023-01-02",
         "CUST421",
         "Female",
         "37",
         "Clothing",
         "3",
         "500",
         "1500",
         "270.0"
        ],
        [
         "673",
         "2023-02-01",
         "CUST673",
         "Female",
         "43",
         "Clothing",
         "3",
         "500",
         "1500",
         "270.0"
        ],
        [
         "484",
         "2023-01-13",
         "CUST484",
         "Female",
         "19",
         "Clothing",
         "4",
         "300",
         "1200",
         "216.0"
        ],
        [
         "165",
         "2023-09-14",
         "CUST165",
         "Female",
         "60",
         "Clothing",
         "4",
         "300",
         "1200",
         "216.0"
        ],
        [
         "202",
         "2023-03-26",
         "CUST202",
         "Female",
         "34",
         "Clothing",
         "4",
         "300",
         "1200",
         "216.0"
        ],
        [
         "107",
         "2023-02-03",
         "CUST107",
         "Female",
         "21",
         "Clothing",
         "4",
         "300",
         "1200",
         "216.0"
        ],
        [
         "716",
         "2023-08-08",
         "CUST716",
         "Female",
         "60",
         "Clothing",
         "4",
         "300",
         "1200",
         "216.0"
        ],
        [
         "296",
         "2023-09-06",
         "CUST296",
         "Female",
         "22",
         "Clothing",
         "4",
         "300",
         "1200",
         "216.0"
        ],
        [
         "340",
         "2023-10-19",
         "CUST340",
         "Female",
         "36",
         "Clothing",
         "4",
         "300",
         "1200",
         "216.0"
        ],
        [
         "368",
         "2023-08-23",
         "CUST368",
         "Female",
         "56",
         "Clothing",
         "4",
         "300",
         "1200",
         "216.0"
        ],
        [
         "405",
         "2023-11-06",
         "CUST405",
         "Female",
         "25",
         "Clothing",
         "4",
         "300",
         "1200",
         "216.0"
        ],
        [
         "928",
         "2023-04-05",
         "CUST928",
         "Female",
         "35",
         "Clothing",
         "4",
         "300",
         "1200",
         "216.0"
        ],
        [
         "943",
         "2023-10-16",
         "CUST943",
         "Female",
         "57",
         "Clothing",
         "4",
         "300",
         "1200",
         "216.0"
        ],
        [
         "559",
         "2023-01-01",
         "CUST559",
         "Female",
         "40",
         "Clothing",
         "4",
         "300",
         "1200",
         "216.0"
        ],
        [
         "482",
         "2023-04-27",
         "CUST482",
         "Female",
         "28",
         "Clothing",
         "4",
         "300",
         "1200",
         "216.0"
        ],
        [
         "382",
         "2023-05-26",
         "CUST382",
         "Female",
         "53",
         "Clothing",
         "2",
         "500",
         "1000",
         "180.0"
        ],
        [
         "986",
         "2023-01-17",
         "CUST986",
         "Female",
         "49",
         "Clothing",
         "2",
         "500",
         "1000",
         "180.0"
        ],
        [
         "453",
         "2023-12-08",
         "CUST453",
         "Female",
         "26",
         "Clothing",
         "2",
         "500",
         "1000",
         "180.0"
        ],
        [
         "470",
         "2023-05-17",
         "CUST470",
         "Female",
         "57",
         "Clothing",
         "2",
         "500",
         "1000",
         "180.0"
        ],
        [
         "684",
         "2023-06-30",
         "CUST684",
         "Female",
         "28",
         "Clothing",
         "2",
         "500",
         "1000",
         "180.0"
        ],
        [
         "274",
         "2023-04-09",
         "CUST274",
         "Female",
         "23",
         "Clothing",
         "2",
         "500",
         "1000",
         "180.0"
        ],
        [
         "2",
         "2023-02-27",
         "CUST002",
         "Female",
         "26",
         "Clothing",
         "2",
         "500",
         "1000",
         "180.0"
        ],
        [
         "515",
         "2023-07-17",
         "CUST515",
         "Female",
         "49",
         "Clothing",
         "3",
         "300",
         "900",
         "162.0"
        ],
        [
         "56",
         "2023-05-31",
         "CUST056",
         "Female",
         "26",
         "Clothing",
         "3",
         "300",
         "900",
         "162.0"
        ],
        [
         "171",
         "2023-11-24",
         "CUST171",
         "Female",
         "52",
         "Clothing",
         "3",
         "300",
         "900",
         "162.0"
        ],
        [
         "196",
         "2023-09-30",
         "CUST196",
         "Female",
         "32",
         "Clothing",
         "3",
         "300",
         "900",
         "162.0"
        ],
        [
         "969",
         "2023-04-19",
         "CUST969",
         "Female",
         "40",
         "Clothing",
         "3",
         "300",
         "900",
         "162.0"
        ],
        [
         "690",
         "2023-11-05",
         "CUST690",
         "Female",
         "52",
         "Clothing",
         "3",
         "300",
         "900",
         "162.0"
        ],
        [
         "680",
         "2023-10-22",
         "CUST680",
         "Female",
         "53",
         "Clothing",
         "3",
         "300",
         "900",
         "162.0"
        ],
        [
         "987",
         "2023-04-29",
         "CUST987",
         "Female",
         "30",
         "Clothing",
         "3",
         "300",
         "900",
         "162.0"
        ],
        [
         "968",
         "2023-11-17",
         "CUST968",
         "Female",
         "48",
         "Clothing",
         "3",
         "300",
         "900",
         "162.0"
        ],
        [
         "567",
         "2023-06-14",
         "CUST567",
         "Female",
         "25",
         "Clothing",
         "3",
         "300",
         "900",
         "162.0"
        ],
        [
         "398",
         "2023-05-16",
         "CUST398",
         "Female",
         "48",
         "Clothing",
         "2",
         "300",
         "600",
         "108.0"
        ],
        [
         "649",
         "2023-02-09",
         "CUST649",
         "Female",
         "58",
         "Clothing",
         "2",
         "300",
         "600",
         "108.0"
        ],
        [
         "842",
         "2023-12-26",
         "CUST842",
         "Female",
         "47",
         "Clothing",
         "2",
         "300",
         "600",
         "108.0"
        ]
       ],
       "shape": {
        "columns": 9,
        "rows": 174
       }
      },
      "text/html": [
       "<div>\n",
       "<style scoped>\n",
       "    .dataframe tbody tr th:only-of-type {\n",
       "        vertical-align: middle;\n",
       "    }\n",
       "\n",
       "    .dataframe tbody tr th {\n",
       "        vertical-align: top;\n",
       "    }\n",
       "\n",
       "    .dataframe thead th {\n",
       "        text-align: right;\n",
       "    }\n",
       "</style>\n",
       "<table border=\"1\" class=\"dataframe\">\n",
       "  <thead>\n",
       "    <tr style=\"text-align: right;\">\n",
       "      <th></th>\n",
       "      <th>Date</th>\n",
       "      <th>Customer ID</th>\n",
       "      <th>Gender</th>\n",
       "      <th>Age</th>\n",
       "      <th>Product Category</th>\n",
       "      <th>Quantity</th>\n",
       "      <th>Price per Unit</th>\n",
       "      <th>Total Amount</th>\n",
       "      <th>GST</th>\n",
       "    </tr>\n",
       "    <tr>\n",
       "      <th>Transaction ID</th>\n",
       "      <th></th>\n",
       "      <th></th>\n",
       "      <th></th>\n",
       "      <th></th>\n",
       "      <th></th>\n",
       "      <th></th>\n",
       "      <th></th>\n",
       "      <th></th>\n",
       "      <th></th>\n",
       "    </tr>\n",
       "  </thead>\n",
       "  <tbody>\n",
       "    <tr>\n",
       "      <th>253</th>\n",
       "      <td>2023-08-31</td>\n",
       "      <td>CUST253</td>\n",
       "      <td>Female</td>\n",
       "      <td>53</td>\n",
       "      <td>Clothing</td>\n",
       "      <td>4</td>\n",
       "      <td>500</td>\n",
       "      <td>2000</td>\n",
       "      <td>360.0</td>\n",
       "    </tr>\n",
       "    <tr>\n",
       "      <th>561</th>\n",
       "      <td>2023-05-27</td>\n",
       "      <td>CUST561</td>\n",
       "      <td>Female</td>\n",
       "      <td>64</td>\n",
       "      <td>Clothing</td>\n",
       "      <td>4</td>\n",
       "      <td>500</td>\n",
       "      <td>2000</td>\n",
       "      <td>360.0</td>\n",
       "    </tr>\n",
       "    <tr>\n",
       "      <th>476</th>\n",
       "      <td>2023-08-29</td>\n",
       "      <td>CUST476</td>\n",
       "      <td>Female</td>\n",
       "      <td>27</td>\n",
       "      <td>Clothing</td>\n",
       "      <td>4</td>\n",
       "      <td>500</td>\n",
       "      <td>2000</td>\n",
       "      <td>360.0</td>\n",
       "    </tr>\n",
       "    <tr>\n",
       "      <th>626</th>\n",
       "      <td>2023-09-29</td>\n",
       "      <td>CUST626</td>\n",
       "      <td>Female</td>\n",
       "      <td>26</td>\n",
       "      <td>Clothing</td>\n",
       "      <td>4</td>\n",
       "      <td>500</td>\n",
       "      <td>2000</td>\n",
       "      <td>360.0</td>\n",
       "    </tr>\n",
       "    <tr>\n",
       "      <th>420</th>\n",
       "      <td>2023-01-23</td>\n",
       "      <td>CUST420</td>\n",
       "      <td>Female</td>\n",
       "      <td>22</td>\n",
       "      <td>Clothing</td>\n",
       "      <td>4</td>\n",
       "      <td>500</td>\n",
       "      <td>2000</td>\n",
       "      <td>360.0</td>\n",
       "    </tr>\n",
       "    <tr>\n",
       "      <th>...</th>\n",
       "      <td>...</td>\n",
       "      <td>...</td>\n",
       "      <td>...</td>\n",
       "      <td>...</td>\n",
       "      <td>...</td>\n",
       "      <td>...</td>\n",
       "      <td>...</td>\n",
       "      <td>...</td>\n",
       "      <td>...</td>\n",
       "    </tr>\n",
       "    <tr>\n",
       "      <th>423</th>\n",
       "      <td>2023-03-08</td>\n",
       "      <td>CUST423</td>\n",
       "      <td>Female</td>\n",
       "      <td>27</td>\n",
       "      <td>Clothing</td>\n",
       "      <td>1</td>\n",
       "      <td>25</td>\n",
       "      <td>25</td>\n",
       "      <td>4.0</td>\n",
       "    </tr>\n",
       "    <tr>\n",
       "      <th>585</th>\n",
       "      <td>2023-05-01</td>\n",
       "      <td>CUST585</td>\n",
       "      <td>Female</td>\n",
       "      <td>24</td>\n",
       "      <td>Clothing</td>\n",
       "      <td>1</td>\n",
       "      <td>25</td>\n",
       "      <td>25</td>\n",
       "      <td>4.0</td>\n",
       "    </tr>\n",
       "    <tr>\n",
       "      <th>764</th>\n",
       "      <td>2023-03-25</td>\n",
       "      <td>CUST764</td>\n",
       "      <td>Female</td>\n",
       "      <td>40</td>\n",
       "      <td>Clothing</td>\n",
       "      <td>1</td>\n",
       "      <td>25</td>\n",
       "      <td>25</td>\n",
       "      <td>4.0</td>\n",
       "    </tr>\n",
       "    <tr>\n",
       "      <th>877</th>\n",
       "      <td>2023-06-19</td>\n",
       "      <td>CUST877</td>\n",
       "      <td>Female</td>\n",
       "      <td>58</td>\n",
       "      <td>Clothing</td>\n",
       "      <td>1</td>\n",
       "      <td>25</td>\n",
       "      <td>25</td>\n",
       "      <td>4.0</td>\n",
       "    </tr>\n",
       "    <tr>\n",
       "      <th>952</th>\n",
       "      <td>2023-11-13</td>\n",
       "      <td>CUST952</td>\n",
       "      <td>Female</td>\n",
       "      <td>57</td>\n",
       "      <td>Clothing</td>\n",
       "      <td>1</td>\n",
       "      <td>25</td>\n",
       "      <td>25</td>\n",
       "      <td>4.0</td>\n",
       "    </tr>\n",
       "  </tbody>\n",
       "</table>\n",
       "<p>174 rows × 9 columns</p>\n",
       "</div>"
      ],
      "text/plain": [
       "                      Date Customer ID  Gender  Age Product Category  \\\n",
       "Transaction ID                                                         \n",
       "253             2023-08-31     CUST253  Female   53         Clothing   \n",
       "561             2023-05-27     CUST561  Female   64         Clothing   \n",
       "476             2023-08-29     CUST476  Female   27         Clothing   \n",
       "626             2023-09-29     CUST626  Female   26         Clothing   \n",
       "420             2023-01-23     CUST420  Female   22         Clothing   \n",
       "...                    ...         ...     ...  ...              ...   \n",
       "423             2023-03-08     CUST423  Female   27         Clothing   \n",
       "585             2023-05-01     CUST585  Female   24         Clothing   \n",
       "764             2023-03-25     CUST764  Female   40         Clothing   \n",
       "877             2023-06-19     CUST877  Female   58         Clothing   \n",
       "952             2023-11-13     CUST952  Female   57         Clothing   \n",
       "\n",
       "                Quantity  Price per Unit  Total Amount    GST  \n",
       "Transaction ID                                                 \n",
       "253                    4             500          2000  360.0  \n",
       "561                    4             500          2000  360.0  \n",
       "476                    4             500          2000  360.0  \n",
       "626                    4             500          2000  360.0  \n",
       "420                    4             500          2000  360.0  \n",
       "...                  ...             ...           ...    ...  \n",
       "423                    1              25            25    4.0  \n",
       "585                    1              25            25    4.0  \n",
       "764                    1              25            25    4.0  \n",
       "877                    1              25            25    4.0  \n",
       "952                    1              25            25    4.0  \n",
       "\n",
       "[174 rows x 9 columns]"
      ]
     },
     "execution_count": 24,
     "metadata": {},
     "output_type": "execute_result"
    }
   ],
   "source": [
    "retail[(retail['Gender'].str.contains('Female', case = False)) & (retail['Product Category'].str.contains('Clothing'))].sort_values('Total Amount', ascending=False)"
   ]
  },
  {
   "cell_type": "code",
   "execution_count": 28,
   "id": "c8ad93a3",
   "metadata": {},
   "outputs": [
    {
     "data": {
      "application/vnd.microsoft.datawrangler.viewer.v0+json": {
       "columns": [
        {
         "name": "Transaction ID",
         "rawType": "int64",
         "type": "integer"
        },
        {
         "name": "Customer ID",
         "rawType": "object",
         "type": "string"
        },
        {
         "name": "Price per Unit",
         "rawType": "int64",
         "type": "integer"
        },
        {
         "name": "Total Amount",
         "rawType": "int64",
         "type": "integer"
        }
       ],
       "ref": "eecf59b1-056a-4242-a955-52d830d4815f",
       "rows": [
        [
         "44",
         "CUST044",
         "25",
         "25"
        ],
        [
         "103",
         "CUST103",
         "25",
         "25"
        ],
        [
         "205",
         "CUST205",
         "25",
         "25"
        ],
        [
         "223",
         "CUST223",
         "25",
         "25"
        ],
        [
         "379",
         "CUST379",
         "25",
         "25"
        ],
        [
         "236",
         "CUST236",
         "25",
         "25"
        ],
        [
         "558",
         "CUST558",
         "25",
         "25"
        ],
        [
         "423",
         "CUST423",
         "25",
         "25"
        ],
        [
         "585",
         "CUST585",
         "25",
         "25"
        ],
        [
         "952",
         "CUST952",
         "25",
         "25"
        ],
        [
         "877",
         "CUST877",
         "25",
         "25"
        ],
        [
         "764",
         "CUST764",
         "25",
         "25"
        ],
        [
         "116",
         "CUST116",
         "30",
         "30"
        ],
        [
         "518",
         "CUST518",
         "30",
         "30"
        ],
        [
         "438",
         "CUST438",
         "30",
         "30"
        ],
        [
         "566",
         "CUST566",
         "30",
         "30"
        ],
        [
         "753",
         "CUST753",
         "30",
         "30"
        ],
        [
         "995",
         "CUST995",
         "30",
         "30"
        ],
        [
         "734",
         "CUST734",
         "30",
         "30"
        ],
        [
         "878",
         "CUST878",
         "30",
         "30"
        ],
        [
         "127",
         "CUST127",
         "25",
         "50"
        ],
        [
         "170",
         "CUST170",
         "25",
         "50"
        ],
        [
         "836",
         "CUST836",
         "50",
         "50"
        ],
        [
         "906",
         "CUST906",
         "50",
         "50"
        ],
        [
         "774",
         "CUST774",
         "25",
         "50"
        ],
        [
         "106",
         "CUST106",
         "50",
         "50"
        ],
        [
         "258",
         "CUST258",
         "50",
         "50"
        ],
        [
         "226",
         "CUST226",
         "50",
         "50"
        ],
        [
         "143",
         "CUST143",
         "50",
         "50"
        ],
        [
         "316",
         "CUST316",
         "25",
         "50"
        ],
        [
         "224",
         "CUST224",
         "50",
         "50"
        ],
        [
         "19",
         "CUST019",
         "25",
         "50"
        ],
        [
         "730",
         "CUST730",
         "25",
         "50"
        ],
        [
         "737",
         "CUST737",
         "50",
         "50"
        ],
        [
         "941",
         "CUST941",
         "25",
         "50"
        ],
        [
         "751",
         "CUST751",
         "25",
         "50"
        ],
        [
         "528",
         "CUST528",
         "30",
         "60"
        ],
        [
         "884",
         "CUST884",
         "30",
         "60"
        ],
        [
         "80",
         "CUST080",
         "30",
         "60"
        ],
        [
         "95",
         "CUST095",
         "30",
         "60"
        ],
        [
         "548",
         "CUST548",
         "30",
         "60"
        ],
        [
         "478",
         "CUST478",
         "30",
         "60"
        ],
        [
         "719",
         "CUST719",
         "30",
         "60"
        ],
        [
         "675",
         "CUST675",
         "30",
         "60"
        ],
        [
         "755",
         "CUST755",
         "25",
         "75"
        ],
        [
         "815",
         "CUST815",
         "25",
         "75"
        ],
        [
         "848",
         "CUST848",
         "25",
         "75"
        ],
        [
         "988",
         "CUST988",
         "25",
         "75"
        ],
        [
         "750",
         "CUST750",
         "25",
         "75"
        ],
        [
         "145",
         "CUST145",
         "25",
         "75"
        ]
       ],
       "shape": {
        "columns": 3,
        "rows": 174
       }
      },
      "text/html": [
       "<div>\n",
       "<style scoped>\n",
       "    .dataframe tbody tr th:only-of-type {\n",
       "        vertical-align: middle;\n",
       "    }\n",
       "\n",
       "    .dataframe tbody tr th {\n",
       "        vertical-align: top;\n",
       "    }\n",
       "\n",
       "    .dataframe thead th {\n",
       "        text-align: right;\n",
       "    }\n",
       "</style>\n",
       "<table border=\"1\" class=\"dataframe\">\n",
       "  <thead>\n",
       "    <tr style=\"text-align: right;\">\n",
       "      <th></th>\n",
       "      <th>Customer ID</th>\n",
       "      <th>Price per Unit</th>\n",
       "      <th>Total Amount</th>\n",
       "    </tr>\n",
       "    <tr>\n",
       "      <th>Transaction ID</th>\n",
       "      <th></th>\n",
       "      <th></th>\n",
       "      <th></th>\n",
       "    </tr>\n",
       "  </thead>\n",
       "  <tbody>\n",
       "    <tr>\n",
       "      <th>44</th>\n",
       "      <td>CUST044</td>\n",
       "      <td>25</td>\n",
       "      <td>25</td>\n",
       "    </tr>\n",
       "    <tr>\n",
       "      <th>103</th>\n",
       "      <td>CUST103</td>\n",
       "      <td>25</td>\n",
       "      <td>25</td>\n",
       "    </tr>\n",
       "    <tr>\n",
       "      <th>205</th>\n",
       "      <td>CUST205</td>\n",
       "      <td>25</td>\n",
       "      <td>25</td>\n",
       "    </tr>\n",
       "    <tr>\n",
       "      <th>223</th>\n",
       "      <td>CUST223</td>\n",
       "      <td>25</td>\n",
       "      <td>25</td>\n",
       "    </tr>\n",
       "    <tr>\n",
       "      <th>379</th>\n",
       "      <td>CUST379</td>\n",
       "      <td>25</td>\n",
       "      <td>25</td>\n",
       "    </tr>\n",
       "    <tr>\n",
       "      <th>...</th>\n",
       "      <td>...</td>\n",
       "      <td>...</td>\n",
       "      <td>...</td>\n",
       "    </tr>\n",
       "    <tr>\n",
       "      <th>595</th>\n",
       "      <td>CUST595</td>\n",
       "      <td>500</td>\n",
       "      <td>2000</td>\n",
       "    </tr>\n",
       "    <tr>\n",
       "      <th>664</th>\n",
       "      <td>CUST664</td>\n",
       "      <td>500</td>\n",
       "      <td>2000</td>\n",
       "    </tr>\n",
       "    <tr>\n",
       "      <th>561</th>\n",
       "      <td>CUST561</td>\n",
       "      <td>500</td>\n",
       "      <td>2000</td>\n",
       "    </tr>\n",
       "    <tr>\n",
       "      <th>735</th>\n",
       "      <td>CUST735</td>\n",
       "      <td>500</td>\n",
       "      <td>2000</td>\n",
       "    </tr>\n",
       "    <tr>\n",
       "      <th>789</th>\n",
       "      <td>CUST789</td>\n",
       "      <td>500</td>\n",
       "      <td>2000</td>\n",
       "    </tr>\n",
       "  </tbody>\n",
       "</table>\n",
       "<p>174 rows × 3 columns</p>\n",
       "</div>"
      ],
      "text/plain": [
       "               Customer ID  Price per Unit  Total Amount\n",
       "Transaction ID                                          \n",
       "44                 CUST044              25            25\n",
       "103                CUST103              25            25\n",
       "205                CUST205              25            25\n",
       "223                CUST223              25            25\n",
       "379                CUST379              25            25\n",
       "...                    ...             ...           ...\n",
       "595                CUST595             500          2000\n",
       "664                CUST664             500          2000\n",
       "561                CUST561             500          2000\n",
       "735                CUST735             500          2000\n",
       "789                CUST789             500          2000\n",
       "\n",
       "[174 rows x 3 columns]"
      ]
     },
     "execution_count": 28,
     "metadata": {},
     "output_type": "execute_result"
    }
   ],
   "source": [
    "retail[(retail['Gender'].str.contains('Female', case = False)) & (retail['Product Category'].str.contains('Clothing'))].sort_values('Total Amount', ascending=True)[['Customer ID','Price per Unit', 'Total Amount']]"
   ]
  },
  {
   "cell_type": "code",
   "execution_count": 19,
   "id": "09f70d49",
   "metadata": {},
   "outputs": [
    {
     "data": {
      "application/vnd.microsoft.datawrangler.viewer.v0+json": {
       "columns": [
        {
         "name": "Transaction ID",
         "rawType": "int64",
         "type": "integer"
        },
        {
         "name": "Customer ID",
         "rawType": "object",
         "type": "string"
        },
        {
         "name": "Total Amount",
         "rawType": "int64",
         "type": "integer"
        }
       ],
       "ref": "37ec2fb9-35e6-47ff-bd10-4a4674bda3d9",
       "rows": [
        [
         "1",
         "CUST001",
         "150"
        ],
        [
         "2",
         "CUST002",
         "1000"
        ],
        [
         "3",
         "CUST003",
         "30"
        ],
        [
         "4",
         "CUST004",
         "500"
        ],
        [
         "5",
         "CUST005",
         "100"
        ],
        [
         "6",
         "CUST006",
         "30"
        ],
        [
         "7",
         "CUST007",
         "50"
        ],
        [
         "8",
         "CUST008",
         "100"
        ],
        [
         "9",
         "CUST009",
         "600"
        ],
        [
         "10",
         "CUST010",
         "200"
        ]
       ],
       "shape": {
        "columns": 2,
        "rows": 10
       }
      },
      "text/html": [
       "<div>\n",
       "<style scoped>\n",
       "    .dataframe tbody tr th:only-of-type {\n",
       "        vertical-align: middle;\n",
       "    }\n",
       "\n",
       "    .dataframe tbody tr th {\n",
       "        vertical-align: top;\n",
       "    }\n",
       "\n",
       "    .dataframe thead th {\n",
       "        text-align: right;\n",
       "    }\n",
       "</style>\n",
       "<table border=\"1\" class=\"dataframe\">\n",
       "  <thead>\n",
       "    <tr style=\"text-align: right;\">\n",
       "      <th></th>\n",
       "      <th>Customer ID</th>\n",
       "      <th>Total Amount</th>\n",
       "    </tr>\n",
       "    <tr>\n",
       "      <th>Transaction ID</th>\n",
       "      <th></th>\n",
       "      <th></th>\n",
       "    </tr>\n",
       "  </thead>\n",
       "  <tbody>\n",
       "    <tr>\n",
       "      <th>1</th>\n",
       "      <td>CUST001</td>\n",
       "      <td>150</td>\n",
       "    </tr>\n",
       "    <tr>\n",
       "      <th>2</th>\n",
       "      <td>CUST002</td>\n",
       "      <td>1000</td>\n",
       "    </tr>\n",
       "    <tr>\n",
       "      <th>3</th>\n",
       "      <td>CUST003</td>\n",
       "      <td>30</td>\n",
       "    </tr>\n",
       "    <tr>\n",
       "      <th>4</th>\n",
       "      <td>CUST004</td>\n",
       "      <td>500</td>\n",
       "    </tr>\n",
       "    <tr>\n",
       "      <th>5</th>\n",
       "      <td>CUST005</td>\n",
       "      <td>100</td>\n",
       "    </tr>\n",
       "    <tr>\n",
       "      <th>6</th>\n",
       "      <td>CUST006</td>\n",
       "      <td>30</td>\n",
       "    </tr>\n",
       "    <tr>\n",
       "      <th>7</th>\n",
       "      <td>CUST007</td>\n",
       "      <td>50</td>\n",
       "    </tr>\n",
       "    <tr>\n",
       "      <th>8</th>\n",
       "      <td>CUST008</td>\n",
       "      <td>100</td>\n",
       "    </tr>\n",
       "    <tr>\n",
       "      <th>9</th>\n",
       "      <td>CUST009</td>\n",
       "      <td>600</td>\n",
       "    </tr>\n",
       "    <tr>\n",
       "      <th>10</th>\n",
       "      <td>CUST010</td>\n",
       "      <td>200</td>\n",
       "    </tr>\n",
       "  </tbody>\n",
       "</table>\n",
       "</div>"
      ],
      "text/plain": [
       "               Customer ID  Total Amount\n",
       "Transaction ID                          \n",
       "1                  CUST001           150\n",
       "2                  CUST002          1000\n",
       "3                  CUST003            30\n",
       "4                  CUST004           500\n",
       "5                  CUST005           100\n",
       "6                  CUST006            30\n",
       "7                  CUST007            50\n",
       "8                  CUST008           100\n",
       "9                  CUST009           600\n",
       "10                 CUST010           200"
      ]
     },
     "execution_count": 19,
     "metadata": {},
     "output_type": "execute_result"
    }
   ],
   "source": [
    "retail[:10][['Customer ID', 'Total Amount']]  #This works as well as iloc \n",
    "\n",
    "retail.iloc[:10] [['Customer ID', 'Total Amount']]  #This is using iloc"
   ]
  },
  {
   "cell_type": "code",
   "execution_count": 20,
   "id": "84710362",
   "metadata": {},
   "outputs": [
    {
     "data": {
      "application/vnd.microsoft.datawrangler.viewer.v0+json": {
       "columns": [
        {
         "name": "Transaction ID",
         "rawType": "int64",
         "type": "integer"
        },
        {
         "name": "Customer ID",
         "rawType": "object",
         "type": "string"
        },
        {
         "name": "Total Amount",
         "rawType": "int64",
         "type": "integer"
        }
       ],
       "ref": "3612dd24-4612-48a9-b5de-e5bebdb96f02",
       "rows": [
        [
         "1",
         "CUST001",
         "150"
        ],
        [
         "2",
         "CUST002",
         "1000"
        ],
        [
         "3",
         "CUST003",
         "30"
        ],
        [
         "4",
         "CUST004",
         "500"
        ],
        [
         "5",
         "CUST005",
         "100"
        ],
        [
         "6",
         "CUST006",
         "30"
        ],
        [
         "7",
         "CUST007",
         "50"
        ],
        [
         "8",
         "CUST008",
         "100"
        ],
        [
         "9",
         "CUST009",
         "600"
        ],
        [
         "10",
         "CUST010",
         "200"
        ]
       ],
       "shape": {
        "columns": 2,
        "rows": 10
       }
      },
      "text/html": [
       "<div>\n",
       "<style scoped>\n",
       "    .dataframe tbody tr th:only-of-type {\n",
       "        vertical-align: middle;\n",
       "    }\n",
       "\n",
       "    .dataframe tbody tr th {\n",
       "        vertical-align: top;\n",
       "    }\n",
       "\n",
       "    .dataframe thead th {\n",
       "        text-align: right;\n",
       "    }\n",
       "</style>\n",
       "<table border=\"1\" class=\"dataframe\">\n",
       "  <thead>\n",
       "    <tr style=\"text-align: right;\">\n",
       "      <th></th>\n",
       "      <th>Customer ID</th>\n",
       "      <th>Total Amount</th>\n",
       "    </tr>\n",
       "    <tr>\n",
       "      <th>Transaction ID</th>\n",
       "      <th></th>\n",
       "      <th></th>\n",
       "    </tr>\n",
       "  </thead>\n",
       "  <tbody>\n",
       "    <tr>\n",
       "      <th>1</th>\n",
       "      <td>CUST001</td>\n",
       "      <td>150</td>\n",
       "    </tr>\n",
       "    <tr>\n",
       "      <th>2</th>\n",
       "      <td>CUST002</td>\n",
       "      <td>1000</td>\n",
       "    </tr>\n",
       "    <tr>\n",
       "      <th>3</th>\n",
       "      <td>CUST003</td>\n",
       "      <td>30</td>\n",
       "    </tr>\n",
       "    <tr>\n",
       "      <th>4</th>\n",
       "      <td>CUST004</td>\n",
       "      <td>500</td>\n",
       "    </tr>\n",
       "    <tr>\n",
       "      <th>5</th>\n",
       "      <td>CUST005</td>\n",
       "      <td>100</td>\n",
       "    </tr>\n",
       "    <tr>\n",
       "      <th>6</th>\n",
       "      <td>CUST006</td>\n",
       "      <td>30</td>\n",
       "    </tr>\n",
       "    <tr>\n",
       "      <th>7</th>\n",
       "      <td>CUST007</td>\n",
       "      <td>50</td>\n",
       "    </tr>\n",
       "    <tr>\n",
       "      <th>8</th>\n",
       "      <td>CUST008</td>\n",
       "      <td>100</td>\n",
       "    </tr>\n",
       "    <tr>\n",
       "      <th>9</th>\n",
       "      <td>CUST009</td>\n",
       "      <td>600</td>\n",
       "    </tr>\n",
       "    <tr>\n",
       "      <th>10</th>\n",
       "      <td>CUST010</td>\n",
       "      <td>200</td>\n",
       "    </tr>\n",
       "  </tbody>\n",
       "</table>\n",
       "</div>"
      ],
      "text/plain": [
       "               Customer ID  Total Amount\n",
       "Transaction ID                          \n",
       "1                  CUST001           150\n",
       "2                  CUST002          1000\n",
       "3                  CUST003            30\n",
       "4                  CUST004           500\n",
       "5                  CUST005           100\n",
       "6                  CUST006            30\n",
       "7                  CUST007            50\n",
       "8                  CUST008           100\n",
       "9                  CUST009           600\n",
       "10                 CUST010           200"
      ]
     },
     "execution_count": 20,
     "metadata": {},
     "output_type": "execute_result"
    }
   ],
   "source": [
    "# Alternate ways to do this is using loc\n",
    "\n",
    "retail.loc[:10] [['Customer ID', 'Total Amount']]"
   ]
  },
  {
   "cell_type": "markdown",
   "id": "39842310",
   "metadata": {},
   "source": [
    "**Using numpy ontop of Pandas is gives us additional operation capabilites to compute logical and mathematical operations \n",
    "on piece of data.**"
   ]
  },
  {
   "cell_type": "code",
   "execution_count": 47,
   "id": "4837e5e8",
   "metadata": {},
   "outputs": [
    {
     "data": {
      "application/vnd.microsoft.datawrangler.viewer.v0+json": {
       "columns": [
        {
         "name": "Transaction ID",
         "rawType": "int64",
         "type": "integer"
        },
        {
         "name": "Date",
         "rawType": "object",
         "type": "string"
        },
        {
         "name": "Customer ID",
         "rawType": "object",
         "type": "string"
        },
        {
         "name": "Gender",
         "rawType": "object",
         "type": "string"
        },
        {
         "name": "Age",
         "rawType": "int64",
         "type": "integer"
        },
        {
         "name": "Product Category",
         "rawType": "object",
         "type": "string"
        },
        {
         "name": "Quantity",
         "rawType": "int64",
         "type": "integer"
        },
        {
         "name": "Price per Unit",
         "rawType": "int64",
         "type": "integer"
        },
        {
         "name": "Total Amount",
         "rawType": "int64",
         "type": "integer"
        },
        {
         "name": "GST",
         "rawType": "float64",
         "type": "float"
        }
       ],
       "ref": "2579477d-3f0a-4329-a3dd-340e59d2b2f3",
       "rows": [
        [
         "1",
         "2023-11-24",
         "CUST001",
         "Male",
         "34",
         "Beauty",
         "3",
         "50",
         "150",
         "27.0"
        ],
        [
         "2",
         "2023-02-27",
         "CUST002",
         "Female",
         "26",
         "Clothing",
         "2",
         "500",
         "1000",
         "180.0"
        ],
        [
         "3",
         "2023-01-13",
         "CUST003",
         "Male",
         "50",
         "Electronics",
         "1",
         "30",
         "30",
         "5.0"
        ],
        [
         "4",
         "2023-05-21",
         "CUST004",
         "Male",
         "37",
         "Clothing",
         "1",
         "500",
         "500",
         "90.0"
        ],
        [
         "5",
         "2023-05-06",
         "CUST005",
         "Male",
         "30",
         "Beauty",
         "2",
         "50",
         "100",
         "18.0"
        ]
       ],
       "shape": {
        "columns": 9,
        "rows": 5
       }
      },
      "text/html": [
       "<div>\n",
       "<style scoped>\n",
       "    .dataframe tbody tr th:only-of-type {\n",
       "        vertical-align: middle;\n",
       "    }\n",
       "\n",
       "    .dataframe tbody tr th {\n",
       "        vertical-align: top;\n",
       "    }\n",
       "\n",
       "    .dataframe thead th {\n",
       "        text-align: right;\n",
       "    }\n",
       "</style>\n",
       "<table border=\"1\" class=\"dataframe\">\n",
       "  <thead>\n",
       "    <tr style=\"text-align: right;\">\n",
       "      <th></th>\n",
       "      <th>Date</th>\n",
       "      <th>Customer ID</th>\n",
       "      <th>Gender</th>\n",
       "      <th>Age</th>\n",
       "      <th>Product Category</th>\n",
       "      <th>Quantity</th>\n",
       "      <th>Price per Unit</th>\n",
       "      <th>Total Amount</th>\n",
       "      <th>GST</th>\n",
       "    </tr>\n",
       "    <tr>\n",
       "      <th>Transaction ID</th>\n",
       "      <th></th>\n",
       "      <th></th>\n",
       "      <th></th>\n",
       "      <th></th>\n",
       "      <th></th>\n",
       "      <th></th>\n",
       "      <th></th>\n",
       "      <th></th>\n",
       "      <th></th>\n",
       "    </tr>\n",
       "  </thead>\n",
       "  <tbody>\n",
       "    <tr>\n",
       "      <th>1</th>\n",
       "      <td>2023-11-24</td>\n",
       "      <td>CUST001</td>\n",
       "      <td>Male</td>\n",
       "      <td>34</td>\n",
       "      <td>Beauty</td>\n",
       "      <td>3</td>\n",
       "      <td>50</td>\n",
       "      <td>150</td>\n",
       "      <td>27.0</td>\n",
       "    </tr>\n",
       "    <tr>\n",
       "      <th>2</th>\n",
       "      <td>2023-02-27</td>\n",
       "      <td>CUST002</td>\n",
       "      <td>Female</td>\n",
       "      <td>26</td>\n",
       "      <td>Clothing</td>\n",
       "      <td>2</td>\n",
       "      <td>500</td>\n",
       "      <td>1000</td>\n",
       "      <td>180.0</td>\n",
       "    </tr>\n",
       "    <tr>\n",
       "      <th>3</th>\n",
       "      <td>2023-01-13</td>\n",
       "      <td>CUST003</td>\n",
       "      <td>Male</td>\n",
       "      <td>50</td>\n",
       "      <td>Electronics</td>\n",
       "      <td>1</td>\n",
       "      <td>30</td>\n",
       "      <td>30</td>\n",
       "      <td>5.0</td>\n",
       "    </tr>\n",
       "    <tr>\n",
       "      <th>4</th>\n",
       "      <td>2023-05-21</td>\n",
       "      <td>CUST004</td>\n",
       "      <td>Male</td>\n",
       "      <td>37</td>\n",
       "      <td>Clothing</td>\n",
       "      <td>1</td>\n",
       "      <td>500</td>\n",
       "      <td>500</td>\n",
       "      <td>90.0</td>\n",
       "    </tr>\n",
       "    <tr>\n",
       "      <th>5</th>\n",
       "      <td>2023-05-06</td>\n",
       "      <td>CUST005</td>\n",
       "      <td>Male</td>\n",
       "      <td>30</td>\n",
       "      <td>Beauty</td>\n",
       "      <td>2</td>\n",
       "      <td>50</td>\n",
       "      <td>100</td>\n",
       "      <td>18.0</td>\n",
       "    </tr>\n",
       "  </tbody>\n",
       "</table>\n",
       "</div>"
      ],
      "text/plain": [
       "                      Date Customer ID  Gender  Age Product Category  \\\n",
       "Transaction ID                                                         \n",
       "1               2023-11-24     CUST001    Male   34           Beauty   \n",
       "2               2023-02-27     CUST002  Female   26         Clothing   \n",
       "3               2023-01-13     CUST003    Male   50      Electronics   \n",
       "4               2023-05-21     CUST004    Male   37         Clothing   \n",
       "5               2023-05-06     CUST005    Male   30           Beauty   \n",
       "\n",
       "                Quantity  Price per Unit  Total Amount    GST  \n",
       "Transaction ID                                                 \n",
       "1                      3              50           150   27.0  \n",
       "2                      2             500          1000  180.0  \n",
       "3                      1              30            30    5.0  \n",
       "4                      1             500           500   90.0  \n",
       "5                      2              50           100   18.0  "
      ]
     },
     "execution_count": 47,
     "metadata": {},
     "output_type": "execute_result"
    }
   ],
   "source": [
    "retail['GST'] = round(retail['Total Amount'] * 0.18)\n",
    "retail['GST'].astype(int)\n",
    "retail.head(5)"
   ]
  },
  {
   "cell_type": "code",
   "execution_count": 35,
   "id": "6333bc1b",
   "metadata": {},
   "outputs": [
    {
     "data": {
      "application/vnd.microsoft.datawrangler.viewer.v0+json": {
       "columns": [
        {
         "name": "index",
         "rawType": "object",
         "type": "string"
        },
        {
         "name": "Age",
         "rawType": "float64",
         "type": "float"
        },
        {
         "name": "Quantity",
         "rawType": "float64",
         "type": "float"
        },
        {
         "name": "Price per Unit",
         "rawType": "float64",
         "type": "float"
        },
        {
         "name": "Total Amount",
         "rawType": "float64",
         "type": "float"
        },
        {
         "name": "GST",
         "rawType": "float64",
         "type": "float"
        }
       ],
       "ref": "5a4349ee-5946-4f28-8486-10be1daf04e3",
       "rows": [
        [
         "count",
         "1000.0",
         "1000.0",
         "1000.0",
         "1000.0",
         "1000.0"
        ],
        [
         "mean",
         "41.392",
         "2.514",
         "179.89",
         "456.0",
         "82.073"
        ],
        [
         "std",
         "13.681429659122527",
         "1.1327343409145356",
         "189.68135627129232",
         "559.997631555123",
         "100.80937556200416"
        ],
        [
         "min",
         "18.0",
         "1.0",
         "25.0",
         "25.0",
         "4.0"
        ],
        [
         "25%",
         "29.0",
         "1.0",
         "30.0",
         "60.0",
         "11.0"
        ],
        [
         "50%",
         "42.0",
         "3.0",
         "50.0",
         "135.0",
         "24.5"
        ],
        [
         "75%",
         "53.0",
         "4.0",
         "300.0",
         "900.0",
         "162.0"
        ],
        [
         "max",
         "64.0",
         "4.0",
         "500.0",
         "2000.0",
         "360.0"
        ]
       ],
       "shape": {
        "columns": 5,
        "rows": 8
       }
      },
      "text/html": [
       "<div>\n",
       "<style scoped>\n",
       "    .dataframe tbody tr th:only-of-type {\n",
       "        vertical-align: middle;\n",
       "    }\n",
       "\n",
       "    .dataframe tbody tr th {\n",
       "        vertical-align: top;\n",
       "    }\n",
       "\n",
       "    .dataframe thead th {\n",
       "        text-align: right;\n",
       "    }\n",
       "</style>\n",
       "<table border=\"1\" class=\"dataframe\">\n",
       "  <thead>\n",
       "    <tr style=\"text-align: right;\">\n",
       "      <th></th>\n",
       "      <th>Age</th>\n",
       "      <th>Quantity</th>\n",
       "      <th>Price per Unit</th>\n",
       "      <th>Total Amount</th>\n",
       "      <th>GST</th>\n",
       "    </tr>\n",
       "  </thead>\n",
       "  <tbody>\n",
       "    <tr>\n",
       "      <th>count</th>\n",
       "      <td>1000.00000</td>\n",
       "      <td>1000.000000</td>\n",
       "      <td>1000.000000</td>\n",
       "      <td>1000.000000</td>\n",
       "      <td>1000.000000</td>\n",
       "    </tr>\n",
       "    <tr>\n",
       "      <th>mean</th>\n",
       "      <td>41.39200</td>\n",
       "      <td>2.514000</td>\n",
       "      <td>179.890000</td>\n",
       "      <td>456.000000</td>\n",
       "      <td>82.073000</td>\n",
       "    </tr>\n",
       "    <tr>\n",
       "      <th>std</th>\n",
       "      <td>13.68143</td>\n",
       "      <td>1.132734</td>\n",
       "      <td>189.681356</td>\n",
       "      <td>559.997632</td>\n",
       "      <td>100.809376</td>\n",
       "    </tr>\n",
       "    <tr>\n",
       "      <th>min</th>\n",
       "      <td>18.00000</td>\n",
       "      <td>1.000000</td>\n",
       "      <td>25.000000</td>\n",
       "      <td>25.000000</td>\n",
       "      <td>4.000000</td>\n",
       "    </tr>\n",
       "    <tr>\n",
       "      <th>25%</th>\n",
       "      <td>29.00000</td>\n",
       "      <td>1.000000</td>\n",
       "      <td>30.000000</td>\n",
       "      <td>60.000000</td>\n",
       "      <td>11.000000</td>\n",
       "    </tr>\n",
       "    <tr>\n",
       "      <th>50%</th>\n",
       "      <td>42.00000</td>\n",
       "      <td>3.000000</td>\n",
       "      <td>50.000000</td>\n",
       "      <td>135.000000</td>\n",
       "      <td>24.500000</td>\n",
       "    </tr>\n",
       "    <tr>\n",
       "      <th>75%</th>\n",
       "      <td>53.00000</td>\n",
       "      <td>4.000000</td>\n",
       "      <td>300.000000</td>\n",
       "      <td>900.000000</td>\n",
       "      <td>162.000000</td>\n",
       "    </tr>\n",
       "    <tr>\n",
       "      <th>max</th>\n",
       "      <td>64.00000</td>\n",
       "      <td>4.000000</td>\n",
       "      <td>500.000000</td>\n",
       "      <td>2000.000000</td>\n",
       "      <td>360.000000</td>\n",
       "    </tr>\n",
       "  </tbody>\n",
       "</table>\n",
       "</div>"
      ],
      "text/plain": [
       "              Age     Quantity  Price per Unit  Total Amount          GST\n",
       "count  1000.00000  1000.000000     1000.000000   1000.000000  1000.000000\n",
       "mean     41.39200     2.514000      179.890000    456.000000    82.073000\n",
       "std      13.68143     1.132734      189.681356    559.997632   100.809376\n",
       "min      18.00000     1.000000       25.000000     25.000000     4.000000\n",
       "25%      29.00000     1.000000       30.000000     60.000000    11.000000\n",
       "50%      42.00000     3.000000       50.000000    135.000000    24.500000\n",
       "75%      53.00000     4.000000      300.000000    900.000000   162.000000\n",
       "max      64.00000     4.000000      500.000000   2000.000000   360.000000"
      ]
     },
     "execution_count": 35,
     "metadata": {},
     "output_type": "execute_result"
    }
   ],
   "source": [
    "retail.describe()"
   ]
  },
  {
   "cell_type": "code",
   "execution_count": 49,
   "id": "48d4aef4",
   "metadata": {},
   "outputs": [
    {
     "data": {
      "application/vnd.microsoft.datawrangler.viewer.v0+json": {
       "columns": [
        {
         "name": "Transaction ID",
         "rawType": "int64",
         "type": "integer"
        },
        {
         "name": "Date",
         "rawType": "object",
         "type": "string"
        },
        {
         "name": "Customer ID",
         "rawType": "object",
         "type": "string"
        },
        {
         "name": "Gender",
         "rawType": "object",
         "type": "string"
        },
        {
         "name": "Age",
         "rawType": "int64",
         "type": "integer"
        },
        {
         "name": "Product Category",
         "rawType": "object",
         "type": "string"
        },
        {
         "name": "Quantity",
         "rawType": "int64",
         "type": "integer"
        },
        {
         "name": "Price per Unit",
         "rawType": "int64",
         "type": "integer"
        },
        {
         "name": "Total Amount",
         "rawType": "int64",
         "type": "integer"
        },
        {
         "name": "GST",
         "rawType": "float64",
         "type": "float"
        }
       ],
       "ref": "1fc04c4a-b0a8-4228-b418-945dee207d31",
       "rows": [
        [
         "1",
         "2023-11-24",
         "CUST001",
         "Male",
         "34",
         "Beauty",
         "3",
         "50",
         "150",
         "30.0"
        ],
        [
         "2",
         "2023-02-27",
         "CUST002",
         "Female",
         "26",
         "Clothing",
         "2",
         "500",
         "1000",
         "180.0"
        ],
        [
         "3",
         "2023-01-13",
         "CUST003",
         "Male",
         "50",
         "Electronics",
         "1",
         "30",
         "30",
         "5.0"
        ],
        [
         "4",
         "2023-05-21",
         "CUST004",
         "Male",
         "37",
         "Clothing",
         "1",
         "500",
         "500",
         "90.0"
        ],
        [
         "5",
         "2023-05-06",
         "CUST005",
         "Male",
         "30",
         "Beauty",
         "2",
         "50",
         "100",
         "20.0"
        ]
       ],
       "shape": {
        "columns": 9,
        "rows": 5
       }
      },
      "text/html": [
       "<div>\n",
       "<style scoped>\n",
       "    .dataframe tbody tr th:only-of-type {\n",
       "        vertical-align: middle;\n",
       "    }\n",
       "\n",
       "    .dataframe tbody tr th {\n",
       "        vertical-align: top;\n",
       "    }\n",
       "\n",
       "    .dataframe thead th {\n",
       "        text-align: right;\n",
       "    }\n",
       "</style>\n",
       "<table border=\"1\" class=\"dataframe\">\n",
       "  <thead>\n",
       "    <tr style=\"text-align: right;\">\n",
       "      <th></th>\n",
       "      <th>Date</th>\n",
       "      <th>Customer ID</th>\n",
       "      <th>Gender</th>\n",
       "      <th>Age</th>\n",
       "      <th>Product Category</th>\n",
       "      <th>Quantity</th>\n",
       "      <th>Price per Unit</th>\n",
       "      <th>Total Amount</th>\n",
       "      <th>GST</th>\n",
       "    </tr>\n",
       "    <tr>\n",
       "      <th>Transaction ID</th>\n",
       "      <th></th>\n",
       "      <th></th>\n",
       "      <th></th>\n",
       "      <th></th>\n",
       "      <th></th>\n",
       "      <th></th>\n",
       "      <th></th>\n",
       "      <th></th>\n",
       "      <th></th>\n",
       "    </tr>\n",
       "  </thead>\n",
       "  <tbody>\n",
       "    <tr>\n",
       "      <th>1</th>\n",
       "      <td>2023-11-24</td>\n",
       "      <td>CUST001</td>\n",
       "      <td>Male</td>\n",
       "      <td>34</td>\n",
       "      <td>Beauty</td>\n",
       "      <td>3</td>\n",
       "      <td>50</td>\n",
       "      <td>150</td>\n",
       "      <td>30.0</td>\n",
       "    </tr>\n",
       "    <tr>\n",
       "      <th>2</th>\n",
       "      <td>2023-02-27</td>\n",
       "      <td>CUST002</td>\n",
       "      <td>Female</td>\n",
       "      <td>26</td>\n",
       "      <td>Clothing</td>\n",
       "      <td>2</td>\n",
       "      <td>500</td>\n",
       "      <td>1000</td>\n",
       "      <td>180.0</td>\n",
       "    </tr>\n",
       "    <tr>\n",
       "      <th>3</th>\n",
       "      <td>2023-01-13</td>\n",
       "      <td>CUST003</td>\n",
       "      <td>Male</td>\n",
       "      <td>50</td>\n",
       "      <td>Electronics</td>\n",
       "      <td>1</td>\n",
       "      <td>30</td>\n",
       "      <td>30</td>\n",
       "      <td>5.0</td>\n",
       "    </tr>\n",
       "    <tr>\n",
       "      <th>4</th>\n",
       "      <td>2023-05-21</td>\n",
       "      <td>CUST004</td>\n",
       "      <td>Male</td>\n",
       "      <td>37</td>\n",
       "      <td>Clothing</td>\n",
       "      <td>1</td>\n",
       "      <td>500</td>\n",
       "      <td>500</td>\n",
       "      <td>90.0</td>\n",
       "    </tr>\n",
       "    <tr>\n",
       "      <th>5</th>\n",
       "      <td>2023-05-06</td>\n",
       "      <td>CUST005</td>\n",
       "      <td>Male</td>\n",
       "      <td>30</td>\n",
       "      <td>Beauty</td>\n",
       "      <td>2</td>\n",
       "      <td>50</td>\n",
       "      <td>100</td>\n",
       "      <td>20.0</td>\n",
       "    </tr>\n",
       "  </tbody>\n",
       "</table>\n",
       "</div>"
      ],
      "text/plain": [
       "                      Date Customer ID  Gender  Age Product Category  \\\n",
       "Transaction ID                                                         \n",
       "1               2023-11-24     CUST001    Male   34           Beauty   \n",
       "2               2023-02-27     CUST002  Female   26         Clothing   \n",
       "3               2023-01-13     CUST003    Male   50      Electronics   \n",
       "4               2023-05-21     CUST004    Male   37         Clothing   \n",
       "5               2023-05-06     CUST005    Male   30           Beauty   \n",
       "\n",
       "                Quantity  Price per Unit  Total Amount    GST  \n",
       "Transaction ID                                                 \n",
       "1                      3              50           150   30.0  \n",
       "2                      2             500          1000  180.0  \n",
       "3                      1              30            30    5.0  \n",
       "4                      1             500           500   90.0  \n",
       "5                      2              50           100   20.0  "
      ]
     },
     "execution_count": 49,
     "metadata": {},
     "output_type": "execute_result"
    }
   ],
   "source": [
    "#Let's update GST where the Beauty taxes are up to 20%\n",
    "\n",
    "retail.loc[retail['Product Category'] == 'Beauty', 'GST'] = retail['Total Amount'] * 0.2   #Here we also need a GST value as we need to update on this \n",
    "retail.head(5)"
   ]
  },
  {
   "cell_type": "markdown",
   "id": "88bebb85",
   "metadata": {},
   "source": [
    "**We can apply queries on the dataframes as SQL queries **"
   ]
  },
  {
   "cell_type": "code",
   "execution_count": null,
   "id": "dfe7aa48",
   "metadata": {},
   "outputs": [
    {
     "data": {
      "application/vnd.microsoft.datawrangler.viewer.v0+json": {
       "columns": [
        {
         "name": "Transaction ID",
         "rawType": "int64",
         "type": "integer"
        },
        {
         "name": "Date",
         "rawType": "object",
         "type": "string"
        },
        {
         "name": "Customer ID",
         "rawType": "object",
         "type": "string"
        },
        {
         "name": "Gender",
         "rawType": "object",
         "type": "string"
        },
        {
         "name": "Age",
         "rawType": "int64",
         "type": "integer"
        },
        {
         "name": "Product Category",
         "rawType": "object",
         "type": "string"
        },
        {
         "name": "Quantity",
         "rawType": "int64",
         "type": "integer"
        },
        {
         "name": "Price per Unit",
         "rawType": "int64",
         "type": "integer"
        },
        {
         "name": "Total Amount",
         "rawType": "int64",
         "type": "integer"
        },
        {
         "name": "GST",
         "rawType": "float64",
         "type": "float"
        }
       ],
       "ref": "54213602-b8e8-4e65-899a-345f5a0b6a0d",
       "rows": [
        [
         "2",
         "2023-02-27",
         "CUST002",
         "Female",
         "26",
         "Clothing",
         "2",
         "500",
         "1000",
         "180.0"
        ],
        [
         "4",
         "2023-05-21",
         "CUST004",
         "Male",
         "37",
         "Clothing",
         "1",
         "500",
         "500",
         "90.0"
        ],
        [
         "9",
         "2023-12-13",
         "CUST009",
         "Male",
         "63",
         "Electronics",
         "2",
         "300",
         "600",
         "108.0"
        ],
        [
         "13",
         "2023-08-05",
         "CUST013",
         "Male",
         "22",
         "Electronics",
         "3",
         "500",
         "1500",
         "270.0"
        ],
        [
         "15",
         "2023-01-16",
         "CUST015",
         "Female",
         "42",
         "Electronics",
         "4",
         "500",
         "2000",
         "360.0"
        ],
        [
         "16",
         "2023-02-17",
         "CUST016",
         "Male",
         "19",
         "Clothing",
         "3",
         "500",
         "1500",
         "270.0"
        ],
        [
         "20",
         "2023-11-05",
         "CUST020",
         "Male",
         "22",
         "Clothing",
         "3",
         "300",
         "900",
         "162.0"
        ],
        [
         "21",
         "2023-01-14",
         "CUST021",
         "Female",
         "50",
         "Beauty",
         "1",
         "500",
         "500",
         "100.0"
        ],
        [
         "26",
         "2023-10-07",
         "CUST026",
         "Female",
         "28",
         "Electronics",
         "2",
         "500",
         "1000",
         "180.0"
        ],
        [
         "28",
         "2023-04-23",
         "CUST028",
         "Female",
         "43",
         "Beauty",
         "1",
         "500",
         "500",
         "100.0"
        ],
        [
         "30",
         "2023-10-29",
         "CUST030",
         "Female",
         "39",
         "Beauty",
         "3",
         "300",
         "900",
         "180.0"
        ],
        [
         "31",
         "2023-05-23",
         "CUST031",
         "Male",
         "44",
         "Electronics",
         "4",
         "300",
         "1200",
         "216.0"
        ],
        [
         "35",
         "2023-08-05",
         "CUST035",
         "Female",
         "58",
         "Beauty",
         "3",
         "300",
         "900",
         "180.0"
        ],
        [
         "36",
         "2023-06-24",
         "CUST036",
         "Male",
         "52",
         "Beauty",
         "3",
         "300",
         "900",
         "180.0"
        ],
        [
         "42",
         "2023-02-17",
         "CUST042",
         "Male",
         "22",
         "Clothing",
         "3",
         "300",
         "900",
         "162.0"
        ],
        [
         "46",
         "2023-06-26",
         "CUST046",
         "Female",
         "20",
         "Electronics",
         "4",
         "300",
         "1200",
         "216.0"
        ],
        [
         "47",
         "2023-11-06",
         "CUST047",
         "Female",
         "40",
         "Beauty",
         "3",
         "500",
         "1500",
         "300.0"
        ],
        [
         "48",
         "2023-05-16",
         "CUST048",
         "Male",
         "54",
         "Electronics",
         "3",
         "300",
         "900",
         "162.0"
        ],
        [
         "49",
         "2023-01-23",
         "CUST049",
         "Female",
         "54",
         "Electronics",
         "2",
         "500",
         "1000",
         "180.0"
        ],
        [
         "54",
         "2023-02-10",
         "CUST054",
         "Female",
         "38",
         "Electronics",
         "3",
         "500",
         "1500",
         "270.0"
        ],
        [
         "56",
         "2023-05-31",
         "CUST056",
         "Female",
         "26",
         "Clothing",
         "3",
         "300",
         "900",
         "162.0"
        ],
        [
         "58",
         "2023-11-13",
         "CUST058",
         "Male",
         "18",
         "Clothing",
         "4",
         "300",
         "1200",
         "216.0"
        ],
        [
         "65",
         "2023-12-05",
         "CUST065",
         "Male",
         "51",
         "Electronics",
         "4",
         "500",
         "2000",
         "360.0"
        ],
        [
         "67",
         "2023-05-29",
         "CUST067",
         "Female",
         "48",
         "Beauty",
         "4",
         "300",
         "1200",
         "240.0"
        ],
        [
         "72",
         "2023-05-23",
         "CUST072",
         "Female",
         "20",
         "Electronics",
         "4",
         "500",
         "2000",
         "360.0"
        ],
        [
         "74",
         "2023-11-22",
         "CUST074",
         "Female",
         "18",
         "Beauty",
         "4",
         "500",
         "2000",
         "400.0"
        ],
        [
         "78",
         "2023-07-01",
         "CUST078",
         "Female",
         "47",
         "Clothing",
         "3",
         "500",
         "1500",
         "270.0"
        ],
        [
         "88",
         "2023-03-29",
         "CUST088",
         "Male",
         "56",
         "Clothing",
         "1",
         "500",
         "500",
         "90.0"
        ],
        [
         "89",
         "2023-10-01",
         "CUST089",
         "Female",
         "55",
         "Electronics",
         "4",
         "500",
         "2000",
         "360.0"
        ],
        [
         "91",
         "2023-03-25",
         "CUST091",
         "Female",
         "55",
         "Electronics",
         "1",
         "500",
         "500",
         "90.0"
        ],
        [
         "93",
         "2023-07-14",
         "CUST093",
         "Female",
         "35",
         "Beauty",
         "4",
         "500",
         "2000",
         "400.0"
        ],
        [
         "94",
         "2023-05-19",
         "CUST094",
         "Female",
         "47",
         "Beauty",
         "2",
         "500",
         "1000",
         "200.0"
        ],
        [
         "96",
         "2023-12-19",
         "CUST096",
         "Female",
         "44",
         "Clothing",
         "2",
         "300",
         "600",
         "108.0"
        ],
        [
         "97",
         "2023-10-13",
         "CUST097",
         "Female",
         "51",
         "Beauty",
         "2",
         "500",
         "1000",
         "200.0"
        ],
        [
         "99",
         "2023-12-17",
         "CUST099",
         "Female",
         "50",
         "Electronics",
         "4",
         "300",
         "1200",
         "216.0"
        ],
        [
         "101",
         "2023-01-29",
         "CUST101",
         "Male",
         "32",
         "Clothing",
         "2",
         "300",
         "600",
         "108.0"
        ],
        [
         "104",
         "2023-06-11",
         "CUST104",
         "Female",
         "34",
         "Beauty",
         "2",
         "500",
         "1000",
         "200.0"
        ],
        [
         "105",
         "2023-07-25",
         "CUST105",
         "Female",
         "22",
         "Electronics",
         "1",
         "500",
         "500",
         "90.0"
        ],
        [
         "107",
         "2023-02-03",
         "CUST107",
         "Female",
         "21",
         "Clothing",
         "4",
         "300",
         "1200",
         "216.0"
        ],
        [
         "109",
         "2023-10-18",
         "CUST109",
         "Female",
         "34",
         "Electronics",
         "4",
         "500",
         "2000",
         "360.0"
        ],
        [
         "110",
         "2023-06-11",
         "CUST110",
         "Male",
         "27",
         "Clothing",
         "3",
         "300",
         "900",
         "162.0"
        ],
        [
         "111",
         "2023-04-19",
         "CUST111",
         "Female",
         "34",
         "Electronics",
         "3",
         "500",
         "1500",
         "270.0"
        ],
        [
         "112",
         "2023-12-02",
         "CUST112",
         "Male",
         "37",
         "Clothing",
         "3",
         "500",
         "1500",
         "270.0"
        ],
        [
         "115",
         "2023-11-26",
         "CUST115",
         "Male",
         "51",
         "Clothing",
         "3",
         "500",
         "1500",
         "270.0"
        ],
        [
         "117",
         "2023-03-15",
         "CUST117",
         "Male",
         "19",
         "Electronics",
         "2",
         "500",
         "1000",
         "180.0"
        ],
        [
         "118",
         "2023-05-16",
         "CUST118",
         "Female",
         "30",
         "Electronics",
         "4",
         "500",
         "2000",
         "360.0"
        ],
        [
         "124",
         "2023-10-27",
         "CUST124",
         "Male",
         "33",
         "Clothing",
         "4",
         "500",
         "2000",
         "360.0"
        ],
        [
         "128",
         "2023-07-05",
         "CUST128",
         "Male",
         "25",
         "Beauty",
         "1",
         "500",
         "500",
         "100.0"
        ],
        [
         "129",
         "2023-04-23",
         "CUST129",
         "Female",
         "21",
         "Beauty",
         "2",
         "300",
         "600",
         "120.0"
        ],
        [
         "130",
         "2023-03-12",
         "CUST130",
         "Female",
         "57",
         "Clothing",
         "1",
         "500",
         "500",
         "90.0"
        ]
       ],
       "shape": {
        "columns": 9,
        "rows": 350
       }
      },
      "text/html": [
       "<div>\n",
       "<style scoped>\n",
       "    .dataframe tbody tr th:only-of-type {\n",
       "        vertical-align: middle;\n",
       "    }\n",
       "\n",
       "    .dataframe tbody tr th {\n",
       "        vertical-align: top;\n",
       "    }\n",
       "\n",
       "    .dataframe thead th {\n",
       "        text-align: right;\n",
       "    }\n",
       "</style>\n",
       "<table border=\"1\" class=\"dataframe\">\n",
       "  <thead>\n",
       "    <tr style=\"text-align: right;\">\n",
       "      <th></th>\n",
       "      <th>Date</th>\n",
       "      <th>Customer ID</th>\n",
       "      <th>Gender</th>\n",
       "      <th>Age</th>\n",
       "      <th>Product Category</th>\n",
       "      <th>Quantity</th>\n",
       "      <th>Price per Unit</th>\n",
       "      <th>Total Amount</th>\n",
       "      <th>GST</th>\n",
       "    </tr>\n",
       "    <tr>\n",
       "      <th>Transaction ID</th>\n",
       "      <th></th>\n",
       "      <th></th>\n",
       "      <th></th>\n",
       "      <th></th>\n",
       "      <th></th>\n",
       "      <th></th>\n",
       "      <th></th>\n",
       "      <th></th>\n",
       "      <th></th>\n",
       "    </tr>\n",
       "  </thead>\n",
       "  <tbody>\n",
       "    <tr>\n",
       "      <th>2</th>\n",
       "      <td>2023-02-27</td>\n",
       "      <td>CUST002</td>\n",
       "      <td>Female</td>\n",
       "      <td>26</td>\n",
       "      <td>Clothing</td>\n",
       "      <td>2</td>\n",
       "      <td>500</td>\n",
       "      <td>1000</td>\n",
       "      <td>180.0</td>\n",
       "    </tr>\n",
       "    <tr>\n",
       "      <th>4</th>\n",
       "      <td>2023-05-21</td>\n",
       "      <td>CUST004</td>\n",
       "      <td>Male</td>\n",
       "      <td>37</td>\n",
       "      <td>Clothing</td>\n",
       "      <td>1</td>\n",
       "      <td>500</td>\n",
       "      <td>500</td>\n",
       "      <td>90.0</td>\n",
       "    </tr>\n",
       "    <tr>\n",
       "      <th>9</th>\n",
       "      <td>2023-12-13</td>\n",
       "      <td>CUST009</td>\n",
       "      <td>Male</td>\n",
       "      <td>63</td>\n",
       "      <td>Electronics</td>\n",
       "      <td>2</td>\n",
       "      <td>300</td>\n",
       "      <td>600</td>\n",
       "      <td>108.0</td>\n",
       "    </tr>\n",
       "    <tr>\n",
       "      <th>13</th>\n",
       "      <td>2023-08-05</td>\n",
       "      <td>CUST013</td>\n",
       "      <td>Male</td>\n",
       "      <td>22</td>\n",
       "      <td>Electronics</td>\n",
       "      <td>3</td>\n",
       "      <td>500</td>\n",
       "      <td>1500</td>\n",
       "      <td>270.0</td>\n",
       "    </tr>\n",
       "    <tr>\n",
       "      <th>15</th>\n",
       "      <td>2023-01-16</td>\n",
       "      <td>CUST015</td>\n",
       "      <td>Female</td>\n",
       "      <td>42</td>\n",
       "      <td>Electronics</td>\n",
       "      <td>4</td>\n",
       "      <td>500</td>\n",
       "      <td>2000</td>\n",
       "      <td>360.0</td>\n",
       "    </tr>\n",
       "    <tr>\n",
       "      <th>...</th>\n",
       "      <td>...</td>\n",
       "      <td>...</td>\n",
       "      <td>...</td>\n",
       "      <td>...</td>\n",
       "      <td>...</td>\n",
       "      <td>...</td>\n",
       "      <td>...</td>\n",
       "      <td>...</td>\n",
       "      <td>...</td>\n",
       "    </tr>\n",
       "    <tr>\n",
       "      <th>984</th>\n",
       "      <td>2023-08-29</td>\n",
       "      <td>CUST984</td>\n",
       "      <td>Male</td>\n",
       "      <td>56</td>\n",
       "      <td>Clothing</td>\n",
       "      <td>1</td>\n",
       "      <td>500</td>\n",
       "      <td>500</td>\n",
       "      <td>90.0</td>\n",
       "    </tr>\n",
       "    <tr>\n",
       "      <th>986</th>\n",
       "      <td>2023-01-17</td>\n",
       "      <td>CUST986</td>\n",
       "      <td>Female</td>\n",
       "      <td>49</td>\n",
       "      <td>Clothing</td>\n",
       "      <td>2</td>\n",
       "      <td>500</td>\n",
       "      <td>1000</td>\n",
       "      <td>180.0</td>\n",
       "    </tr>\n",
       "    <tr>\n",
       "      <th>987</th>\n",
       "      <td>2023-04-29</td>\n",
       "      <td>CUST987</td>\n",
       "      <td>Female</td>\n",
       "      <td>30</td>\n",
       "      <td>Clothing</td>\n",
       "      <td>3</td>\n",
       "      <td>300</td>\n",
       "      <td>900</td>\n",
       "      <td>162.0</td>\n",
       "    </tr>\n",
       "    <tr>\n",
       "      <th>990</th>\n",
       "      <td>2023-05-25</td>\n",
       "      <td>CUST990</td>\n",
       "      <td>Female</td>\n",
       "      <td>58</td>\n",
       "      <td>Beauty</td>\n",
       "      <td>2</td>\n",
       "      <td>500</td>\n",
       "      <td>1000</td>\n",
       "      <td>200.0</td>\n",
       "    </tr>\n",
       "    <tr>\n",
       "      <th>994</th>\n",
       "      <td>2023-12-18</td>\n",
       "      <td>CUST994</td>\n",
       "      <td>Female</td>\n",
       "      <td>51</td>\n",
       "      <td>Beauty</td>\n",
       "      <td>2</td>\n",
       "      <td>500</td>\n",
       "      <td>1000</td>\n",
       "      <td>200.0</td>\n",
       "    </tr>\n",
       "  </tbody>\n",
       "</table>\n",
       "<p>350 rows × 9 columns</p>\n",
       "</div>"
      ],
      "text/plain": [
       "                      Date Customer ID  Gender  Age Product Category  \\\n",
       "Transaction ID                                                         \n",
       "2               2023-02-27     CUST002  Female   26         Clothing   \n",
       "4               2023-05-21     CUST004    Male   37         Clothing   \n",
       "9               2023-12-13     CUST009    Male   63      Electronics   \n",
       "13              2023-08-05     CUST013    Male   22      Electronics   \n",
       "15              2023-01-16     CUST015  Female   42      Electronics   \n",
       "...                    ...         ...     ...  ...              ...   \n",
       "984             2023-08-29     CUST984    Male   56         Clothing   \n",
       "986             2023-01-17     CUST986  Female   49         Clothing   \n",
       "987             2023-04-29     CUST987  Female   30         Clothing   \n",
       "990             2023-05-25     CUST990  Female   58           Beauty   \n",
       "994             2023-12-18     CUST994  Female   51           Beauty   \n",
       "\n",
       "                Quantity  Price per Unit  Total Amount    GST  \n",
       "Transaction ID                                                 \n",
       "2                      2             500          1000  180.0  \n",
       "4                      1             500           500   90.0  \n",
       "9                      2             300           600  108.0  \n",
       "13                     3             500          1500  270.0  \n",
       "15                     4             500          2000  360.0  \n",
       "...                  ...             ...           ...    ...  \n",
       "984                    1             500           500   90.0  \n",
       "986                    2             500          1000  180.0  \n",
       "987                    3             300           900  162.0  \n",
       "990                    2             500          1000  200.0  \n",
       "994                    2             500          1000  200.0  \n",
       "\n",
       "[350 rows x 9 columns]"
      ]
     },
     "execution_count": 57,
     "metadata": {},
     "output_type": "execute_result"
    }
   ],
   "source": [
    "retail.query('`Total Amount` > 300')"
   ]
  },
  {
   "cell_type": "code",
   "execution_count": 62,
   "id": "147120f5",
   "metadata": {},
   "outputs": [
    {
     "data": {
      "application/vnd.microsoft.datawrangler.viewer.v0+json": {
       "columns": [
        {
         "name": "Transaction ID",
         "rawType": "int64",
         "type": "integer"
        },
        {
         "name": "Date",
         "rawType": "object",
         "type": "string"
        },
        {
         "name": "Customer ID",
         "rawType": "object",
         "type": "string"
        },
        {
         "name": "Gender",
         "rawType": "object",
         "type": "string"
        },
        {
         "name": "Age",
         "rawType": "int64",
         "type": "integer"
        },
        {
         "name": "Product Category",
         "rawType": "object",
         "type": "string"
        },
        {
         "name": "Quantity",
         "rawType": "int64",
         "type": "integer"
        },
        {
         "name": "Price per Unit",
         "rawType": "int64",
         "type": "integer"
        },
        {
         "name": "Total Amount",
         "rawType": "int64",
         "type": "integer"
        },
        {
         "name": "GST",
         "rawType": "float64",
         "type": "float"
        }
       ],
       "ref": "78eb6f31-8d3f-4f8a-9f20-bd9ce274e331",
       "rows": [
        [
         "65",
         "2023-12-05",
         "CUST065",
         "Male",
         "51",
         "Electronics",
         "4",
         "500",
         "2000",
         "360.0"
        ],
        [
         "139",
         "2023-12-15",
         "CUST139",
         "Male",
         "36",
         "Beauty",
         "4",
         "500",
         "2000",
         "400.0"
        ],
        [
         "124",
         "2023-10-27",
         "CUST124",
         "Male",
         "33",
         "Clothing",
         "4",
         "500",
         "2000",
         "360.0"
        ],
        [
         "155",
         "2023-05-17",
         "CUST155",
         "Male",
         "31",
         "Electronics",
         "4",
         "500",
         "2000",
         "360.0"
        ],
        [
         "152",
         "2023-02-28",
         "CUST152",
         "Male",
         "43",
         "Electronics",
         "4",
         "500",
         "2000",
         "360.0"
        ],
        [
         "166",
         "2023-04-02",
         "CUST166",
         "Male",
         "34",
         "Clothing",
         "4",
         "500",
         "2000",
         "360.0"
        ],
        [
         "157",
         "2023-06-24",
         "CUST157",
         "Male",
         "62",
         "Electronics",
         "4",
         "500",
         "2000",
         "360.0"
        ],
        [
         "572",
         "2023-04-20",
         "CUST572",
         "Male",
         "31",
         "Clothing",
         "4",
         "500",
         "2000",
         "360.0"
        ],
        [
         "547",
         "2023-03-07",
         "CUST547",
         "Male",
         "63",
         "Clothing",
         "4",
         "500",
         "2000",
         "360.0"
        ],
        [
         "257",
         "2023-02-19",
         "CUST257",
         "Male",
         "19",
         "Beauty",
         "4",
         "500",
         "2000",
         "400.0"
        ],
        [
         "269",
         "2023-02-01",
         "CUST269",
         "Male",
         "25",
         "Clothing",
         "4",
         "500",
         "2000",
         "360.0"
        ],
        [
         "634",
         "2023-10-08",
         "CUST634",
         "Male",
         "60",
         "Electronics",
         "4",
         "500",
         "2000",
         "360.0"
        ],
        [
         "773",
         "2023-07-23",
         "CUST773",
         "Male",
         "25",
         "Electronics",
         "4",
         "500",
         "2000",
         "360.0"
        ],
        [
         "731",
         "2023-05-10",
         "CUST731",
         "Male",
         "54",
         "Clothing",
         "4",
         "500",
         "2000",
         "360.0"
        ],
        [
         "700",
         "2023-12-09",
         "CUST700",
         "Male",
         "36",
         "Electronics",
         "4",
         "500",
         "2000",
         "360.0"
        ],
        [
         "927",
         "2023-06-24",
         "CUST927",
         "Male",
         "43",
         "Electronics",
         "4",
         "500",
         "2000",
         "360.0"
        ],
        [
         "946",
         "2023-05-08",
         "CUST946",
         "Male",
         "62",
         "Electronics",
         "4",
         "500",
         "2000",
         "360.0"
        ],
        [
         "832",
         "2023-09-11",
         "CUST832",
         "Male",
         "47",
         "Beauty",
         "4",
         "500",
         "2000",
         "400.0"
        ],
        [
         "577",
         "2023-02-13",
         "CUST577",
         "Male",
         "21",
         "Beauty",
         "4",
         "500",
         "2000",
         "400.0"
        ],
        [
         "416",
         "2023-02-17",
         "CUST416",
         "Male",
         "53",
         "Electronics",
         "4",
         "500",
         "2000",
         "360.0"
        ],
        [
         "447",
         "2023-07-06",
         "CUST447",
         "Male",
         "22",
         "Beauty",
         "4",
         "500",
         "2000",
         "400.0"
        ],
        [
         "487",
         "2023-07-24",
         "CUST487",
         "Male",
         "44",
         "Clothing",
         "4",
         "500",
         "2000",
         "360.0"
        ],
        [
         "503",
         "2023-10-25",
         "CUST503",
         "Male",
         "45",
         "Beauty",
         "4",
         "500",
         "2000",
         "400.0"
        ],
        [
         "970",
         "2023-05-16",
         "CUST970",
         "Male",
         "59",
         "Electronics",
         "4",
         "500",
         "2000",
         "360.0"
        ],
        [
         "808",
         "2023-04-01",
         "CUST808",
         "Male",
         "33",
         "Beauty",
         "4",
         "500",
         "2000",
         "400.0"
        ],
        [
         "676",
         "2023-07-19",
         "CUST676",
         "Male",
         "63",
         "Electronics",
         "3",
         "500",
         "1500",
         "270.0"
        ],
        [
         "611",
         "2023-02-24",
         "CUST611",
         "Male",
         "51",
         "Beauty",
         "3",
         "500",
         "1500",
         "300.0"
        ],
        [
         "199",
         "2023-12-04",
         "CUST199",
         "Male",
         "45",
         "Beauty",
         "3",
         "500",
         "1500",
         "300.0"
        ],
        [
         "211",
         "2024-01-01",
         "CUST211",
         "Male",
         "42",
         "Beauty",
         "3",
         "500",
         "1500",
         "300.0"
        ],
        [
         "212",
         "2023-06-09",
         "CUST212",
         "Male",
         "21",
         "Clothing",
         "3",
         "500",
         "1500",
         "270.0"
        ],
        [
         "193",
         "2023-02-13",
         "CUST193",
         "Male",
         "35",
         "Beauty",
         "3",
         "500",
         "1500",
         "300.0"
        ],
        [
         "169",
         "2023-11-17",
         "CUST169",
         "Male",
         "18",
         "Beauty",
         "3",
         "500",
         "1500",
         "300.0"
        ],
        [
         "215",
         "2023-11-29",
         "CUST215",
         "Male",
         "58",
         "Clothing",
         "3",
         "500",
         "1500",
         "270.0"
        ],
        [
         "213",
         "2023-07-24",
         "CUST213",
         "Male",
         "27",
         "Beauty",
         "3",
         "500",
         "1500",
         "300.0"
        ],
        [
         "647",
         "2023-05-21",
         "CUST647",
         "Male",
         "59",
         "Clothing",
         "3",
         "500",
         "1500",
         "270.0"
        ],
        [
         "693",
         "2023-04-23",
         "CUST693",
         "Male",
         "41",
         "Beauty",
         "3",
         "500",
         "1500",
         "300.0"
        ],
        [
         "711",
         "2023-10-16",
         "CUST711",
         "Male",
         "26",
         "Electronics",
         "3",
         "500",
         "1500",
         "270.0"
        ],
        [
         "956",
         "2023-08-19",
         "CUST956",
         "Male",
         "30",
         "Clothing",
         "3",
         "500",
         "1500",
         "270.0"
        ],
        [
         "843",
         "2023-05-22",
         "CUST843",
         "Male",
         "21",
         "Beauty",
         "3",
         "500",
         "1500",
         "300.0"
        ],
        [
         "112",
         "2023-12-02",
         "CUST112",
         "Male",
         "37",
         "Clothing",
         "3",
         "500",
         "1500",
         "270.0"
        ],
        [
         "115",
         "2023-11-26",
         "CUST115",
         "Male",
         "51",
         "Clothing",
         "3",
         "500",
         "1500",
         "270.0"
        ],
        [
         "16",
         "2023-02-17",
         "CUST016",
         "Male",
         "19",
         "Clothing",
         "3",
         "500",
         "1500",
         "270.0"
        ],
        [
         "13",
         "2023-08-05",
         "CUST013",
         "Male",
         "22",
         "Electronics",
         "3",
         "500",
         "1500",
         "270.0"
        ],
        [
         "942",
         "2023-03-18",
         "CUST942",
         "Male",
         "51",
         "Clothing",
         "3",
         "500",
         "1500",
         "270.0"
        ],
        [
         "869",
         "2023-10-25",
         "CUST869",
         "Male",
         "37",
         "Beauty",
         "3",
         "500",
         "1500",
         "300.0"
        ],
        [
         "239",
         "2023-06-19",
         "CUST239",
         "Male",
         "38",
         "Electronics",
         "3",
         "500",
         "1500",
         "270.0"
        ],
        [
         "356",
         "2023-06-10",
         "CUST356",
         "Male",
         "50",
         "Electronics",
         "3",
         "500",
         "1500",
         "270.0"
        ],
        [
         "369",
         "2023-11-15",
         "CUST369",
         "Male",
         "23",
         "Electronics",
         "3",
         "500",
         "1500",
         "270.0"
        ],
        [
         "385",
         "2023-10-06",
         "CUST385",
         "Male",
         "50",
         "Electronics",
         "3",
         "500",
         "1500",
         "270.0"
        ],
        [
         "533",
         "2023-11-16",
         "CUST533",
         "Male",
         "19",
         "Electronics",
         "3",
         "500",
         "1500",
         "270.0"
        ]
       ],
       "shape": {
        "columns": 9,
        "rows": 171
       }
      },
      "text/html": [
       "<div>\n",
       "<style scoped>\n",
       "    .dataframe tbody tr th:only-of-type {\n",
       "        vertical-align: middle;\n",
       "    }\n",
       "\n",
       "    .dataframe tbody tr th {\n",
       "        vertical-align: top;\n",
       "    }\n",
       "\n",
       "    .dataframe thead th {\n",
       "        text-align: right;\n",
       "    }\n",
       "</style>\n",
       "<table border=\"1\" class=\"dataframe\">\n",
       "  <thead>\n",
       "    <tr style=\"text-align: right;\">\n",
       "      <th></th>\n",
       "      <th>Date</th>\n",
       "      <th>Customer ID</th>\n",
       "      <th>Gender</th>\n",
       "      <th>Age</th>\n",
       "      <th>Product Category</th>\n",
       "      <th>Quantity</th>\n",
       "      <th>Price per Unit</th>\n",
       "      <th>Total Amount</th>\n",
       "      <th>GST</th>\n",
       "    </tr>\n",
       "    <tr>\n",
       "      <th>Transaction ID</th>\n",
       "      <th></th>\n",
       "      <th></th>\n",
       "      <th></th>\n",
       "      <th></th>\n",
       "      <th></th>\n",
       "      <th></th>\n",
       "      <th></th>\n",
       "      <th></th>\n",
       "      <th></th>\n",
       "    </tr>\n",
       "  </thead>\n",
       "  <tbody>\n",
       "    <tr>\n",
       "      <th>65</th>\n",
       "      <td>2023-12-05</td>\n",
       "      <td>CUST065</td>\n",
       "      <td>Male</td>\n",
       "      <td>51</td>\n",
       "      <td>Electronics</td>\n",
       "      <td>4</td>\n",
       "      <td>500</td>\n",
       "      <td>2000</td>\n",
       "      <td>360.0</td>\n",
       "    </tr>\n",
       "    <tr>\n",
       "      <th>139</th>\n",
       "      <td>2023-12-15</td>\n",
       "      <td>CUST139</td>\n",
       "      <td>Male</td>\n",
       "      <td>36</td>\n",
       "      <td>Beauty</td>\n",
       "      <td>4</td>\n",
       "      <td>500</td>\n",
       "      <td>2000</td>\n",
       "      <td>400.0</td>\n",
       "    </tr>\n",
       "    <tr>\n",
       "      <th>124</th>\n",
       "      <td>2023-10-27</td>\n",
       "      <td>CUST124</td>\n",
       "      <td>Male</td>\n",
       "      <td>33</td>\n",
       "      <td>Clothing</td>\n",
       "      <td>4</td>\n",
       "      <td>500</td>\n",
       "      <td>2000</td>\n",
       "      <td>360.0</td>\n",
       "    </tr>\n",
       "    <tr>\n",
       "      <th>155</th>\n",
       "      <td>2023-05-17</td>\n",
       "      <td>CUST155</td>\n",
       "      <td>Male</td>\n",
       "      <td>31</td>\n",
       "      <td>Electronics</td>\n",
       "      <td>4</td>\n",
       "      <td>500</td>\n",
       "      <td>2000</td>\n",
       "      <td>360.0</td>\n",
       "    </tr>\n",
       "    <tr>\n",
       "      <th>152</th>\n",
       "      <td>2023-02-28</td>\n",
       "      <td>CUST152</td>\n",
       "      <td>Male</td>\n",
       "      <td>43</td>\n",
       "      <td>Electronics</td>\n",
       "      <td>4</td>\n",
       "      <td>500</td>\n",
       "      <td>2000</td>\n",
       "      <td>360.0</td>\n",
       "    </tr>\n",
       "    <tr>\n",
       "      <th>...</th>\n",
       "      <td>...</td>\n",
       "      <td>...</td>\n",
       "      <td>...</td>\n",
       "      <td>...</td>\n",
       "      <td>...</td>\n",
       "      <td>...</td>\n",
       "      <td>...</td>\n",
       "      <td>...</td>\n",
       "      <td>...</td>\n",
       "    </tr>\n",
       "    <tr>\n",
       "      <th>818</th>\n",
       "      <td>2023-05-18</td>\n",
       "      <td>CUST818</td>\n",
       "      <td>Male</td>\n",
       "      <td>30</td>\n",
       "      <td>Electronics</td>\n",
       "      <td>1</td>\n",
       "      <td>500</td>\n",
       "      <td>500</td>\n",
       "      <td>90.0</td>\n",
       "    </tr>\n",
       "    <tr>\n",
       "      <th>883</th>\n",
       "      <td>2023-05-09</td>\n",
       "      <td>CUST883</td>\n",
       "      <td>Male</td>\n",
       "      <td>40</td>\n",
       "      <td>Electronics</td>\n",
       "      <td>1</td>\n",
       "      <td>500</td>\n",
       "      <td>500</td>\n",
       "      <td>90.0</td>\n",
       "    </tr>\n",
       "    <tr>\n",
       "      <th>904</th>\n",
       "      <td>2023-07-04</td>\n",
       "      <td>CUST904</td>\n",
       "      <td>Male</td>\n",
       "      <td>28</td>\n",
       "      <td>Clothing</td>\n",
       "      <td>1</td>\n",
       "      <td>500</td>\n",
       "      <td>500</td>\n",
       "      <td>90.0</td>\n",
       "    </tr>\n",
       "    <tr>\n",
       "      <th>934</th>\n",
       "      <td>2023-07-25</td>\n",
       "      <td>CUST934</td>\n",
       "      <td>Male</td>\n",
       "      <td>30</td>\n",
       "      <td>Beauty</td>\n",
       "      <td>1</td>\n",
       "      <td>500</td>\n",
       "      <td>500</td>\n",
       "      <td>100.0</td>\n",
       "    </tr>\n",
       "    <tr>\n",
       "      <th>984</th>\n",
       "      <td>2023-08-29</td>\n",
       "      <td>CUST984</td>\n",
       "      <td>Male</td>\n",
       "      <td>56</td>\n",
       "      <td>Clothing</td>\n",
       "      <td>1</td>\n",
       "      <td>500</td>\n",
       "      <td>500</td>\n",
       "      <td>90.0</td>\n",
       "    </tr>\n",
       "  </tbody>\n",
       "</table>\n",
       "<p>171 rows × 9 columns</p>\n",
       "</div>"
      ],
      "text/plain": [
       "                      Date Customer ID Gender  Age Product Category  Quantity  \\\n",
       "Transaction ID                                                                  \n",
       "65              2023-12-05     CUST065   Male   51      Electronics         4   \n",
       "139             2023-12-15     CUST139   Male   36           Beauty         4   \n",
       "124             2023-10-27     CUST124   Male   33         Clothing         4   \n",
       "155             2023-05-17     CUST155   Male   31      Electronics         4   \n",
       "152             2023-02-28     CUST152   Male   43      Electronics         4   \n",
       "...                    ...         ...    ...  ...              ...       ...   \n",
       "818             2023-05-18     CUST818   Male   30      Electronics         1   \n",
       "883             2023-05-09     CUST883   Male   40      Electronics         1   \n",
       "904             2023-07-04     CUST904   Male   28         Clothing         1   \n",
       "934             2023-07-25     CUST934   Male   30           Beauty         1   \n",
       "984             2023-08-29     CUST984   Male   56         Clothing         1   \n",
       "\n",
       "                Price per Unit  Total Amount    GST  \n",
       "Transaction ID                                       \n",
       "65                         500          2000  360.0  \n",
       "139                        500          2000  400.0  \n",
       "124                        500          2000  360.0  \n",
       "155                        500          2000  360.0  \n",
       "152                        500          2000  360.0  \n",
       "...                        ...           ...    ...  \n",
       "818                        500           500   90.0  \n",
       "883                        500           500   90.0  \n",
       "904                        500           500   90.0  \n",
       "934                        500           500  100.0  \n",
       "984                        500           500   90.0  \n",
       "\n",
       "[171 rows x 9 columns]"
      ]
     },
     "execution_count": 62,
     "metadata": {},
     "output_type": "execute_result"
    }
   ],
   "source": [
    "retail.query(\"Gender == 'Male' & `Total Amount` > 300\").sort_values('Total Amount', ascending=False)"
   ]
  },
  {
   "cell_type": "markdown",
   "id": "db4091fa",
   "metadata": {},
   "source": [
    "# Using Lambda functions\n",
    "\n",
    "Lambda function can be used inside panda dataframes to perform user defined operations "
   ]
  },
  {
   "cell_type": "code",
   "execution_count": null,
   "id": "de2e4899",
   "metadata": {},
   "outputs": [],
   "source": []
  }
 ],
 "metadata": {
  "kernelspec": {
   "display_name": ".venv",
   "language": "python",
   "name": "python3"
  },
  "language_info": {
   "codemirror_mode": {
    "name": "ipython",
    "version": 3
   },
   "file_extension": ".py",
   "mimetype": "text/x-python",
   "name": "python",
   "nbconvert_exporter": "python",
   "pygments_lexer": "ipython3",
   "version": "3.13.5"
  }
 },
 "nbformat": 4,
 "nbformat_minor": 5
}
