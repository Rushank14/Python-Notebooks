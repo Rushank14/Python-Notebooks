{
 "cells": [
  {
   "cell_type": "markdown",
   "id": "06574501",
   "metadata": {},
   "source": [
    "## This is for Probability \n",
    "\n",
    "Probability tells us how likely something is to happen. It’s like asking: “What are the chances it will rain tomorrow?”\n"
   ]
  },
  {
   "cell_type": "code",
   "execution_count": 10,
   "id": "467bf817",
   "metadata": {},
   "outputs": [],
   "source": [
    "import random \n",
    "from collections import Counter\n",
    "import numpy as np\n",
    "import pandas as pd\n",
    "import seaborn as sns\n",
    "import matplotlib.pyplot as plt "
   ]
  },
  {
   "cell_type": "code",
   "execution_count": 11,
   "id": "fb905c32",
   "metadata": {},
   "outputs": [
    {
     "name": "stdout",
     "output_type": "stream",
     "text": [
      "You picked: red\n"
     ]
    }
   ],
   "source": [
    "\n",
    "marbles = ['red']*7 + ['blue']*3\n",
    "\n",
    "draw = random.choice(marbles)\n",
    "print(f'You picked: {draw}')"
   ]
  },
  {
   "cell_type": "code",
   "execution_count": 26,
   "id": "418384f5",
   "metadata": {},
   "outputs": [
    {
     "name": "stdout",
     "output_type": "stream",
     "text": [
      "Frequencies after 1000 draws:\n",
      "Green: Count = 7, Probability ≈ 0.47\n",
      "Yellow: Count = 4, Probability ≈ 0.27\n",
      "Red: Count = 4, Probability ≈ 0.27\n"
     ]
    },
    {
     "data": {
      "image/png": "[encoded data removed]",
      "text/plain": [
       "<Figure size 640x480 with 1 Axes>"
      ]
     },
     "metadata": {},
     "output_type": "display_data"
    }
   ],
   "source": [
    "import random\n",
    "from collections import Counter\n",
    "import matplotlib.pyplot as plt\n",
    "\n",
    "# Define the bag\n",
    "bag = ['green']*10 + ['yellow']*5 + ['red']*5\n",
    "\n",
    "# Simulate 1000 draws\n",
    "draws = [random.choice(bag) for _ in range(15)]\n",
    "\n",
    "# Count the outcomes\n",
    "outcome_counts = Counter(draws)\n",
    "\n",
    "# Convert to probabilities\n",
    "total_draws = len(draws)\n",
    "outcome_probs = {color: count / total_draws for color, count in outcome_counts.items()}\n",
    "\n",
    "# Print results\n",
    "print(\"Frequencies after 1000 draws:\")\n",
    "for color in ['green', 'yellow', 'red']:\n",
    "    print(f\"{color.capitalize()}: Count = {outcome_counts[color]}, Probability ≈ {outcome_probs[color]:.2f}\")\n",
    "\n",
    "# Visualize\n",
    "plt.bar(outcome_probs.keys(), outcome_probs.values(), color=['green', 'yellow', 'red'])\n",
    "plt.title('Simulated Probabilities (1000 Draws)')\n",
    "plt.ylabel('Probability')\n",
    "plt.grid(True, axis='y')\n",
    "plt.show()\n"
   ]
  },
  {
   "cell_type": "markdown",
   "id": "91d8ba87",
   "metadata": {},
   "source": [
    "**Not all probabilities are created the same way. There are 3 main types of probability**\n",
    "\n",
    "```\n",
    "Type\t    What it Means\t                                                                Example\n",
    "Classical\tBased on logical reasoning; all outcomes are equally likely\tRolling a fair die: P(3) = 1/6\n",
    "Empirical\tBased on actual data or experiments\tRain in July (from weather records)\n",
    "Subjective\tBased on opinion, gut feeling, or belief\t“There’s a 70% chance Messi scores tonight”\n",
    "```"
   ]
  },
  {
   "cell_type": "markdown",
   "id": "2a9d47e5",
   "metadata": {},
   "source": [
    "Classical: If there are 4 flavors, and you close your eyes to pick one, P(vanilla) = 1/4\n",
    "\n",
    "Empirical: You notice that 40 out of 100 kids choose chocolate → Probability = 0.4\n",
    "\n",
    "Subjective: You say “I feel like 80% of people will want mango today” — no data, just belief."
   ]
  },
  {
   "cell_type": "code",
   "execution_count": 27,
   "id": "417c6c71",
   "metadata": {},
   "outputs": [
    {
     "name": "stdout",
     "output_type": "stream",
     "text": [
      "Empirical probabilities from 100 trials:\n",
      "{'strawberry': 0.25, 'vanilla': 0.22, 'chocolate': 0.33, 'mango': 0.2}\n"
     ]
    }
   ],
   "source": [
    "# Empirical probability simulation (observing outcomes)\n",
    "\n",
    "\n",
    "choices = ['vanilla', 'chocolate', 'mango', 'strawberry']\n",
    "observed = [random.choice(choices) for _ in range(100)]\n",
    "\n",
    "counts = Counter(observed)\n",
    "empirical_probs = {flavor: count/100 for flavor, count in counts.items()}\n",
    "\n",
    "print(\"Empirical probabilities from 100 trials:\")\n",
    "print(empirical_probs)\n"
   ]
  }
 ],
 "metadata": {
  "kernelspec": {
   "display_name": "Python 3",
   "language": "python",
   "name": "python3"
  },
  "language_info": {
   "codemirror_mode": {
    "name": "ipython",
    "version": 3
   },
   "file_extension": ".py",
   "mimetype": "text/x-python",
   "name": "python",
   "nbconvert_exporter": "python",
   "pygments_lexer": "ipython3",
   "version": "3.13.1"
  }
 },
 "nbformat": 4,
 "nbformat_minor": 5
}
