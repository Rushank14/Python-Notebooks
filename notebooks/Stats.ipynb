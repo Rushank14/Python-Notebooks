{
 "cells": [
  {
   "cell_type": "code",
   "execution_count": 1,
   "id": "43749aee",
   "metadata": {},
   "outputs": [],
   "source": [
    "import numpy as np\n",
    "import pandas as pd \n",
    "import matplotlib.pyplot as plt \n",
    "import seaborn as sns"
   ]
  },
  {
   "cell_type": "code",
   "execution_count": 7,
   "id": "0cbd069a",
   "metadata": {},
   "outputs": [
    {
     "name": "stdout",
     "output_type": "stream",
     "text": [
      "<class 'pandas.core.frame.DataFrame'>\n",
      "Index: 200 entries, 1 to 200\n",
      "Data columns (total 1 columns):\n",
      " #   Column        Non-Null Count  Dtype\n",
      "---  ------        --------------  -----\n",
      " 0   Monthly Rent  200 non-null    int64\n",
      "dtypes: int64(1)\n",
      "memory usage: 3.1 KB\n"
     ]
    },
    {
     "name": "stderr",
     "output_type": "stream",
     "text": [
      "<>:1: SyntaxWarning: invalid escape sequence '\\D'\n",
      "<>:1: SyntaxWarning: invalid escape sequence '\\D'\n",
      "C:\\Users\\RUSHANK\\AppData\\Local\\Temp\\ipykernel_24248\\3215145940.py:1: SyntaxWarning: invalid escape sequence '\\D'\n",
      "  flat = pd.read_csv(\"D:\\Data_Science\\datasets\\Inferential Statistics - Powai Flats Rent.csv\", index_col='S. No.')\n"
     ]
    }
   ],
   "source": [
    "flat = pd.read_csv(\"D:\\Data_Science\\datasets\\Inferential Statistics - Powai Flats Rent.csv\", index_col='S. No.')\n",
    "flat.info()"
   ]
  },
  {
   "cell_type": "code",
   "execution_count": 8,
   "id": "d8398fea",
   "metadata": {},
   "outputs": [
    {
     "data": {
      "application/vnd.microsoft.datawrangler.viewer.v0+json": {
       "columns": [
        {
         "name": "S. No.",
         "rawType": "int64",
         "type": "integer"
        },
        {
         "name": "Monthly Rent",
         "rawType": "int64",
         "type": "integer"
        }
       ],
       "ref": "40bf00aa-9b00-405b-970d-7d16bcc88eb2",
       "rows": [
        [
         "1",
         "44000"
        ],
        [
         "2",
         "49800"
        ],
        [
         "3",
         "45400"
        ],
        [
         "4",
         "40700"
        ],
        [
         "5",
         "43900"
        ]
       ],
       "shape": {
        "columns": 1,
        "rows": 5
       }
      },
      "text/html": [
       "<div>\n",
       "<style scoped>\n",
       "    .dataframe tbody tr th:only-of-type {\n",
       "        vertical-align: middle;\n",
       "    }\n",
       "\n",
       "    .dataframe tbody tr th {\n",
       "        vertical-align: top;\n",
       "    }\n",
       "\n",
       "    .dataframe thead th {\n",
       "        text-align: right;\n",
       "    }\n",
       "</style>\n",
       "<table border=\"1\" class=\"dataframe\">\n",
       "  <thead>\n",
       "    <tr style=\"text-align: right;\">\n",
       "      <th></th>\n",
       "      <th>Monthly Rent</th>\n",
       "    </tr>\n",
       "    <tr>\n",
       "      <th>S. No.</th>\n",
       "      <th></th>\n",
       "    </tr>\n",
       "  </thead>\n",
       "  <tbody>\n",
       "    <tr>\n",
       "      <th>1</th>\n",
       "      <td>44000</td>\n",
       "    </tr>\n",
       "    <tr>\n",
       "      <th>2</th>\n",
       "      <td>49800</td>\n",
       "    </tr>\n",
       "    <tr>\n",
       "      <th>3</th>\n",
       "      <td>45400</td>\n",
       "    </tr>\n",
       "    <tr>\n",
       "      <th>4</th>\n",
       "      <td>40700</td>\n",
       "    </tr>\n",
       "    <tr>\n",
       "      <th>5</th>\n",
       "      <td>43900</td>\n",
       "    </tr>\n",
       "  </tbody>\n",
       "</table>\n",
       "</div>"
      ],
      "text/plain": [
       "        Monthly Rent\n",
       "S. No.              \n",
       "1              44000\n",
       "2              49800\n",
       "3              45400\n",
       "4              40700\n",
       "5              43900"
      ]
     },
     "execution_count": 8,
     "metadata": {},
     "output_type": "execute_result"
    }
   ],
   "source": [
    "flat.head(5)"
   ]
  },
  {
   "cell_type": "code",
   "execution_count": 12,
   "id": "40f1a3b4",
   "metadata": {},
   "outputs": [
    {
     "data": {
      "application/vnd.microsoft.datawrangler.viewer.v0+json": {
       "columns": [
        {
         "name": "index",
         "rawType": "object",
         "type": "string"
        },
        {
         "name": "Monthly Rent",
         "rawType": "float64",
         "type": "float"
        }
       ],
       "ref": "fb298912-6ef7-4e2f-94c3-101c16f0409e",
       "rows": [
        [
         "count",
         "200.0"
        ],
        [
         "mean",
         "45571.0"
        ],
        [
         "std",
         "7457.521851178448"
        ],
        [
         "min",
         "30100.0"
        ],
        [
         "25%",
         "41250.0"
        ],
        [
         "50%",
         "44950.0"
        ],
        [
         "75%",
         "49825.0"
        ],
        [
         "max",
         "59800.0"
        ]
       ],
       "shape": {
        "columns": 1,
        "rows": 8
       }
      },
      "text/html": [
       "<div>\n",
       "<style scoped>\n",
       "    .dataframe tbody tr th:only-of-type {\n",
       "        vertical-align: middle;\n",
       "    }\n",
       "\n",
       "    .dataframe tbody tr th {\n",
       "        vertical-align: top;\n",
       "    }\n",
       "\n",
       "    .dataframe thead th {\n",
       "        text-align: right;\n",
       "    }\n",
       "</style>\n",
       "<table border=\"1\" class=\"dataframe\">\n",
       "  <thead>\n",
       "    <tr style=\"text-align: right;\">\n",
       "      <th></th>\n",
       "      <th>Monthly Rent</th>\n",
       "    </tr>\n",
       "  </thead>\n",
       "  <tbody>\n",
       "    <tr>\n",
       "      <th>count</th>\n",
       "      <td>200.000000</td>\n",
       "    </tr>\n",
       "    <tr>\n",
       "      <th>mean</th>\n",
       "      <td>45571.000000</td>\n",
       "    </tr>\n",
       "    <tr>\n",
       "      <th>std</th>\n",
       "      <td>7457.521851</td>\n",
       "    </tr>\n",
       "    <tr>\n",
       "      <th>min</th>\n",
       "      <td>30100.000000</td>\n",
       "    </tr>\n",
       "    <tr>\n",
       "      <th>25%</th>\n",
       "      <td>41250.000000</td>\n",
       "    </tr>\n",
       "    <tr>\n",
       "      <th>50%</th>\n",
       "      <td>44950.000000</td>\n",
       "    </tr>\n",
       "    <tr>\n",
       "      <th>75%</th>\n",
       "      <td>49825.000000</td>\n",
       "    </tr>\n",
       "    <tr>\n",
       "      <th>max</th>\n",
       "      <td>59800.000000</td>\n",
       "    </tr>\n",
       "  </tbody>\n",
       "</table>\n",
       "</div>"
      ],
      "text/plain": [
       "       Monthly Rent\n",
       "count    200.000000\n",
       "mean   45571.000000\n",
       "std     7457.521851\n",
       "min    30100.000000\n",
       "25%    41250.000000\n",
       "50%    44950.000000\n",
       "75%    49825.000000\n",
       "max    59800.000000"
      ]
     },
     "execution_count": 12,
     "metadata": {},
     "output_type": "execute_result"
    }
   ],
   "source": [
    "flat.describe()"
   ]
  },
  {
   "cell_type": "code",
   "execution_count": null,
   "id": "6a44bf7c",
   "metadata": {},
   "outputs": [
    {
     "name": "stdout",
     "output_type": "stream",
     "text": [
      "Mean Rent: ₹45571.00\n",
      "Standard Deviation: ₹7457.52\n"
     ]
    }
   ],
   "source": [
    "mean_rent = flat['Monthly Rent'].mean()\n",
    "std_rent = flat['Monthly Rent'].std(ddof=1)\n",
    "n = len(flat)\n",
    "\n",
    "print(f\"Mean Rent: ₹{mean_rent:.2f}\")\n",
    "print(f\"Standard Deviation: ₹{std_rent:.2f}\")\n"
   ]
  },
  {
   "cell_type": "code",
   "execution_count": 16,
   "id": "3cccc7c9",
   "metadata": {},
   "outputs": [
    {
     "name": "stdout",
     "output_type": "stream",
     "text": [
      "The confidence level for 95%: 44537.44 and 46604.56\n"
     ]
    }
   ],
   "source": [
    "z= 1.96\n",
    "se = std_rent/np.sqrt(n)\n",
    "margine_error = z * se\n",
    "\n",
    "low_lim = mean_rent - margine_error\n",
    "high_lim = mean_rent + margine_error\n",
    "\n",
    "print(f\"The confidence level for 95%: {low_lim:.2f} and {high_lim:.2f}\")"
   ]
  },
  {
   "cell_type": "code",
   "execution_count": 18,
   "id": "15f63efa",
   "metadata": {},
   "outputs": [
    {
     "name": "stdout",
     "output_type": "stream",
     "text": [
      "The confidence level for 95%: 43778.09 and 47363.91\n"
     ]
    }
   ],
   "source": [
    "z= 3.4\n",
    "se = std_rent/np.sqrt(n)\n",
    "margine_error = z * se\n",
    "\n",
    "low_lim = mean_rent - margine_error\n",
    "high_lim = mean_rent + margine_error\n",
    "\n",
    "print(f\"The confidence level for 95%: {low_lim:.2f} and {high_lim:.2f}\")"
   ]
  }
 ],
 "metadata": {
  "kernelspec": {
   "display_name": "Python 3",
   "language": "python",
   "name": "python3"
  },
  "language_info": {
   "codemirror_mode": {
    "name": "ipython",
    "version": 3
   },
   "file_extension": ".py",
   "mimetype": "text/x-python",
   "name": "python",
   "nbconvert_exporter": "python",
   "pygments_lexer": "ipython3",
   "version": "3.13.1"
  }
 },
 "nbformat": 4,
 "nbformat_minor": 5
}
